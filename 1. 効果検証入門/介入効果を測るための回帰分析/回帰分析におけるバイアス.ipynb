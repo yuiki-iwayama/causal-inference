{
 "cells": [
  {
   "cell_type": "markdown",
   "id": "7fb2f408-914d-41e7-8a3d-ddd0d8a718ce",
   "metadata": {},
   "source": [
    "# RによるOVBの確認"
   ]
  },
  {
   "cell_type": "markdown",
   "id": "a530e382-fc32-4536-8746-9d4f95e24ce9",
   "metadata": {},
   "source": [
    "**Rコード**\n",
    "\n",
    "```R\n",
    "# broomの読み出し\n",
    "libray(broom)\n",
    "\n",
    "# モデル式のベクトルを用意\n",
    "formula_vec <- c(\n",
    "    spend ~ treatment + recency + channel, #モデルA\n",
    "    spend ~ treatment + recency + channel + history, #モデルB\n",
    "    history ~ treatment + channel + recency, #モデルC\n",
    ")\n",
    "\n",
    "# formulaに名前を付ける\n",
    "names(formula_vec) <- paste(\"reg\", LETTERS[1:3], sep = \"_\")\n",
    "\n",
    "# モデル式のデータフレーム化\n",
    "models <- formula_vec %>%\n",
    "    enframe(name = \"model_index\", value = \"formula\")\n",
    "\n",
    "# まとめて回帰分析を実行\n",
    "df_models <- models %>%\n",
    "    mutate(model = map(.x = formula, .f = lm, data = biased_data)) %>%\n",
    "    mutate(lm_result = map(.x = model, .f = tidy))\n",
    "\n",
    "# モデルの結果を整形\n",
    "df_results <- df_models %>%\n",
    "    mutate(formula = as.character(formula)) %>%\n",
    "    select(formula, model_index, lm_result) %>%\n",
    "    unnset(cols = c(lm_result))\n",
    "\n",
    "# モデルA,B，Cでのtreatmentのパラメータ（回帰係数）を抜き出す\n",
    "treatment_coef <- df_results %>%\n",
    "    filter(term == \"treatment\") %>%\n",
    "    pull(estimate)\n",
    "\n",
    "# モデルBからhistoryのパラメータ（回帰係数）を抜き出す\n",
    "history_coef <- df_results %>%\n",
    "    filter(\n",
    "        model_index == \"reg_B\",\n",
    "        term == \"history\"\n",
    "    ) %>%\n",
    "    pull(estimate)\n",
    "\n",
    "# OVBの確認\n",
    "OVB <- history_coef * treatment_coef[3]\n",
    "coef_gap <- treatment_coef[1] - treatment_coef[2]\n",
    "\n",
    "OVB #beta_2 * gamma_1\n",
    "coef_gap #alpha_1 - beta_1\n",
    "```"
   ]
  },
  {
   "cell_type": "markdown",
   "id": "52fbb957-f0ff-4693-81bd-7d8ac5767c0f",
   "metadata": {},
   "source": [
    "**Pythonコード**"
   ]
  },
  {
   "cell_type": "code",
   "execution_count": 1,
   "id": "a011b12b-f6b0-45ad-810a-32f5ffb8c6f4",
   "metadata": {},
   "outputs": [],
   "source": [
    "# ライブラリーimport\n",
    "import numpy as np\n",
    "import pandas as pd\n",
    "from scipy.stats import uniform\n",
    "import statsmodels.formula.api as smf"
   ]
  },
  {
   "cell_type": "code",
   "execution_count": 2,
   "id": "a3146318-e246-4146-b1c4-c90e6d09bbdf",
   "metadata": {},
   "outputs": [],
   "source": [
    "# データセット作成\n",
    "df_email = pd.read_csv(\"http://www.minethatdata.com/Kevin_Hillstrom_MineThatData_E-MailAnalytics_DataMiningChallenge_2008.03.20.csv\")\n",
    "\n",
    "df_male = df_email.query(\"segment != 'Womens E-Mail'\").copy()\n",
    "df_male[\"treatment\"] = np.where(df_male[\"segment\"] == \"Mens E-Mail\", 1, 0)\n",
    "\n",
    "obs_rate_c = 0.5\n",
    "obs_rate_t = 0.5\n",
    "\n",
    "df_biased_email = (df_male\n",
    "                   .assign(\n",
    "                       obs_rate_c=np.where(\n",
    "                           (df_male[\"history\"] > 300) | (df_male[\"recency\"] < 6) | (df_male[\"channel\"] == \"Multichannel\"),\n",
    "                           obs_rate_c,\n",
    "                           1\n",
    "                       )\n",
    "                   )\n",
    "                   .assign(\n",
    "                       obs_rate_t=np.where(\n",
    "                           (df_male[\"history\"] > 300) | (df_male[\"recency\"] < 6) | (df_male[\"channel\"] == \"Multichannel\"),\n",
    "                           obs_rate_t,\n",
    "                           1\n",
    "                       )\n",
    "                   )\n",
    "                   .assign(random_number=uniform.rvs(size=len(df_male), random_state=46))\n",
    "                   .query(\"(treatment == 0 & random_number < obs_rate_c) | (treatment == 1 & random_number < obs_rate_t)\")\n",
    ")"
   ]
  },
  {
   "cell_type": "code",
   "execution_count": 3,
   "id": "8131fef4-d85c-4b43-a018-775412a19455",
   "metadata": {},
   "outputs": [],
   "source": [
    "# モデルのformulaを用意\n",
    "model_list = [\n",
    "    \"spend ~ treatment + recency + channel\", #モデルA\n",
    "    \"spend ~ treatment + recency + channel + history\", #モデルB\n",
    "    \"history ~ treatment + channel + recency\", #モデルC\n",
    "]\n",
    "# 辞書内包表記でformulaに名前を付ける\n",
    "model_dict = {f\"reg_{idx}\": formula for idx, formula in enumerate(model_list)}\n",
    "\n",
    "# OLSでfitさせた結果をDataFrameに格納\n",
    "df_model = pd.DataFrame(\n",
    "    data=[smf.ols(formula=formula, data=df_biased_email).fit() for formula in model_dict.values()],\n",
    "    index=[reg for reg in model_dict.keys()]\n",
    ").T"
   ]
  },
  {
   "cell_type": "code",
   "execution_count": 4,
   "id": "4471ed4c-c866-464c-8992-a1178cde4896",
   "metadata": {},
   "outputs": [],
   "source": [
    "# モデルA,B，Cでのtreatmentのパラメータ（回帰係数）を抜き出す\n",
    "treatment_coef = [df_model[column][0].params[\"treatment\"] for column in df_model.columns]\n",
    "\n",
    "# モデルBからhistoryのパラメータ（回帰係数）を抜き出す\n",
    "history_coef = df_model[\"reg_1\"][0].params[\"history\"]"
   ]
  },
  {
   "cell_type": "code",
   "execution_count": 5,
   "id": "ab86ef4a-2e17-4d7f-9134-e000a208a773",
   "metadata": {},
   "outputs": [
    {
     "name": "stdout",
     "output_type": "stream",
     "text": [
      "0.0015424165543142167\n",
      "0.0015424165543151958\n"
     ]
    }
   ],
   "source": [
    "# OVBの確認\n",
    "OVB = history_coef * treatment_coef[2]\n",
    "coef_gap = treatment_coef[0] - treatment_coef[1]\n",
    "\n",
    "print(OVB)\n",
    "print(coef_gap)"
   ]
  },
  {
   "cell_type": "markdown",
   "id": "3ee839ba-a3ad-4aee-9987-e40de2e5f8f2",
   "metadata": {},
   "source": [
    "# 変数の選び方とモデルの評価"
   ]
  },
  {
   "cell_type": "markdown",
   "id": "4d52e09e-bc7d-4ae1-a39e-acc27aeaf699",
   "metadata": {},
   "source": [
    "**Rコード**\n",
    "\n",
    "```R\n",
    "# 入れてはいけない変数を入れてみる\n",
    "cor_visit_treatment <- lm(\n",
    "    data = biased_data,\n",
    "    formula = treatment ~ visit + channel + recency + history\n",
    ") %>%\n",
    "tidy()\n",
    "```"
   ]
  },
  {
   "cell_type": "code",
   "execution_count": 6,
   "id": "3db03b14-b642-47eb-bc13-2771cc2d9161",
   "metadata": {},
   "outputs": [
    {
     "name": "stdout",
     "output_type": "stream",
     "text": [
      "                            OLS Regression Results                            \n",
      "==============================================================================\n",
      "Dep. Variable:              treatment   R-squared:                       0.013\n",
      "Model:                            OLS   Adj. R-squared:                  0.013\n",
      "Method:                 Least Squares   F-statistic:                     76.64\n",
      "Date:                Tue, 04 Oct 2022   Prob (F-statistic):           4.17e-80\n",
      "Time:                        02:57:32   Log-Likelihood:                -21304.\n",
      "No. Observations:               29616   AIC:                         4.262e+04\n",
      "Df Residuals:                   29610   BIC:                         4.267e+04\n",
      "Df Model:                           5                                         \n",
      "Covariance Type:            nonrobust                                         \n",
      "====================================================================================\n",
      "                       coef    std err          t      P>|t|      [0.025      0.975]\n",
      "------------------------------------------------------------------------------------\n",
      "Intercept            0.4701      0.014     34.398      0.000       0.443       0.497\n",
      "channel[T.Phone]     0.0010      0.012      0.089      0.929      -0.022       0.024\n",
      "channel[T.Web]      -0.0024      0.012     -0.208      0.835      -0.025       0.020\n",
      "visit                0.1656      0.008     19.561      0.000       0.149       0.182\n",
      "recency              0.0017      0.001      1.903      0.057   -5.04e-05       0.003\n",
      "history          -6.135e-06   1.42e-05     -0.432      0.666    -3.4e-05    2.17e-05\n",
      "==============================================================================\n",
      "Omnibus:                   104149.457   Durbin-Watson:                   2.002\n",
      "Prob(Omnibus):                  0.000   Jarque-Bera (JB):             4695.098\n",
      "Skew:                          -0.002   Prob(JB):                         0.00\n",
      "Kurtosis:                       1.049   Cond. No.                     2.16e+03\n",
      "==============================================================================\n",
      "\n",
      "Notes:\n",
      "[1] Standard Errors assume that the covariance matrix of the errors is correctly specified.\n",
      "[2] The condition number is large, 2.16e+03. This might indicate that there are\n",
      "strong multicollinearity or other numerical problems.\n"
     ]
    }
   ],
   "source": [
    "cor_visit_treatment = smf.ols(\n",
    "    formula=\"treatment ~ visit + channel + recency + history\",\n",
    "    data=df_biased_email\n",
    ").fit()\n",
    "print(cor_visit_treatment.summary())"
   ]
  },
  {
   "cell_type": "markdown",
   "id": "f8acbae1-8422-42f2-b941-b8146a906210",
   "metadata": {},
   "source": [
    "共変量の影響を取り除いた状態での相関が0.1656という値が有意な結果として得られる．  \n",
    "これらのことからOVBの値は大きくなると考えられるので，回帰モデルに $visit_i$ を追加したくなる．  \n",
    "実際にサイト来訪を回帰モデルに入れてみる．"
   ]
  },
  {
   "cell_type": "markdown",
   "id": "9fcdff7c-fe7a-473a-ad77-babcd70e1c7b",
   "metadata": {},
   "source": [
    "**Rコード**\n",
    "```R\n",
    "# visitを入れた回帰分析を実行\n",
    "bad_control_reg <- lm(\n",
    "    data = biased_data,\n",
    "    formula = spend ~ treatment + channel + recency + history + visit\n",
    ") %>% tidy()\n",
    "```"
   ]
  },
  {
   "cell_type": "code",
   "execution_count": 7,
   "id": "dbf528cc-482f-4830-bb4a-08da7bef390e",
   "metadata": {},
   "outputs": [
    {
     "name": "stdout",
     "output_type": "stream",
     "text": [
      "                            OLS Regression Results                            \n",
      "==============================================================================\n",
      "Dep. Variable:                  spend   R-squared:                       0.030\n",
      "Model:                            OLS   Adj. R-squared:                  0.030\n",
      "Method:                 Least Squares   F-statistic:                     151.8\n",
      "Date:                Tue, 04 Oct 2022   Prob (F-statistic):          1.79e-190\n",
      "Time:                        02:57:32   Log-Likelihood:            -1.2173e+05\n",
      "No. Observations:               29616   AIC:                         2.435e+05\n",
      "Df Residuals:                   29609   BIC:                         2.435e+05\n",
      "Df Model:                           6                                         \n",
      "Covariance Type:            nonrobust                                         \n",
      "====================================================================================\n",
      "                       coef    std err          t      P>|t|      [0.025      0.975]\n",
      "------------------------------------------------------------------------------------\n",
      "Intercept           -0.6590      0.414     -1.593      0.111      -1.470       0.152\n",
      "channel[T.Phone]     0.4120      0.347      1.188      0.235      -0.268       1.092\n",
      "channel[T.Web]       0.4103      0.346      1.186      0.236      -0.268       1.089\n",
      "treatment            0.2756      0.173      1.598      0.110      -0.063       0.614\n",
      "recency             -0.0037      0.026     -0.142      0.887      -0.056       0.048\n",
      "history              0.0009      0.000      2.092      0.036    5.57e-05       0.002\n",
      "visit                7.4254      0.253     29.359      0.000       6.930       7.921\n",
      "==============================================================================\n",
      "Omnibus:                    65492.843   Durbin-Watson:                   1.992\n",
      "Prob(Omnibus):                  0.000   Jarque-Bera (JB):        334917465.638\n",
      "Skew:                          20.666   Prob(JB):                         0.00\n",
      "Kurtosis:                     522.326   Cond. No.                     2.17e+03\n",
      "==============================================================================\n",
      "\n",
      "Notes:\n",
      "[1] Standard Errors assume that the covariance matrix of the errors is correctly specified.\n",
      "[2] The condition number is large, 2.17e+03. This might indicate that there are\n",
      "strong multicollinearity or other numerical problems.\n"
     ]
    }
   ],
   "source": [
    "bad_control_reg = smf.ols(\n",
    "    formula=\"spend ~ treatment + channel + recency + history + visit\",\n",
    "    data=df_biased_email\n",
    ").fit()\n",
    "print(bad_control_reg.summary())"
   ]
  },
  {
   "cell_type": "code",
   "execution_count": null,
   "id": "db948457-97ca-4f9e-837a-b9d68198c978",
   "metadata": {},
   "outputs": [],
   "source": []
  }
 ],
 "metadata": {
  "kernelspec": {
   "display_name": "Python 3 (ipykernel)",
   "language": "python",
   "name": "python3"
  },
  "language_info": {
   "codemirror_mode": {
    "name": "ipython",
    "version": 3
   },
   "file_extension": ".py",
   "mimetype": "text/x-python",
   "name": "python",
   "nbconvert_exporter": "python",
   "pygments_lexer": "ipython3",
   "version": "3.10.8"
  },
  "widgets": {
   "application/vnd.jupyter.widget-state+json": {
    "state": {},
    "version_major": 2,
    "version_minor": 0
   }
  }
 },
 "nbformat": 4,
 "nbformat_minor": 5
}
