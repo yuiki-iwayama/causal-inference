{
 "cells": [
  {
   "cell_type": "markdown",
   "id": "065b2132-dcb8-47f3-85a8-65b148595641",
   "metadata": {},
   "source": [
    "# RCTデータで検証"
   ]
  },
  {
   "cell_type": "markdown",
   "id": "dbc2aaec-3e4a-4f02-8350-9b3f24c446d1",
   "metadata": {
    "tags": []
   },
   "source": [
    "## RCTを行ったデータの準備"
   ]
  },
  {
   "cell_type": "markdown",
   "id": "c73744de-ecb5-4ca1-9a0b-956ae71d91c1",
   "metadata": {
    "jp-MarkdownHeadingCollapsed": true,
    "tags": []
   },
   "source": [
    "**Rコード**\n",
    "\n",
    "```R\n",
    "# ライブラリーimport\n",
    "library(tidyverse)\n",
    "library(broom)\n",
    "\n",
    "# データフレーム読み込み\n",
    "email_data <- read_csv(\"http://www.minethatdata.com/Kevin_Hillstrom_MineThatData_E-MailAnalytics_DataMiningChallenge_2008.03.20.csv\")\n",
    "\n",
    "# 男性のみに限定\n",
    "male_df <- email_data %>%\n",
    "    filter(segment != \"Womens E-Mail\") %>%\n",
    "    mutate(\n",
    "        treatment = if_else(segment == \"Mens E-Mail\", 1, 0)\n",
    "    )\n",
    "```\n",
    "\n",
    "**データ説明**\n",
    "\n",
    "|変数名|説明|\n",
    "|:-------|:------|\n",
    "|recency|最後の購入からの経過月数|\n",
    "|history_segment|昨年の購入額の階層|\n",
    "|history|昨年の購入額|\n",
    "|mens|昨年に男物の商品を購入しているか|\n",
    "|womens|昨年に女物の商品を購入しているか|\n",
    "|zipcode|zipcodeをもとに地区を分類したもの|\n",
    "|newbie|過去12ヶ月以内に新しくユーザになったか|\n",
    "|channel|昨年においてどのチャンネルから購入したか|\n",
    "|segment|どのメールが配信されたか|\n",
    "|visit|メールが配信されてから2週間以内にサイトへ来訪したか|\n",
    "|conversion|メールが配信されてから2週間以内に購入したか|\n",
    "|spend|購入した際の購入額|"
   ]
  },
  {
   "cell_type": "code",
   "execution_count": 1,
   "id": "e29a1e20-1897-4763-9f48-47c26adab660",
   "metadata": {},
   "outputs": [],
   "source": [
    "import numpy as np\n",
    "import pandas as pd\n",
    "from scipy.stats import ttest_ind, uniform\n",
    "import statsmodels.api as sm"
   ]
  },
  {
   "cell_type": "code",
   "execution_count": 2,
   "id": "c4b8c6cc-15f2-4447-b8f1-46719fb385bd",
   "metadata": {},
   "outputs": [],
   "source": [
    "df_email = pd.read_csv(\"http://www.minethatdata.com/Kevin_Hillstrom_MineThatData_E-MailAnalytics_DataMiningChallenge_2008.03.20.csv\")"
   ]
  },
  {
   "cell_type": "code",
   "execution_count": 3,
   "id": "7532ae12-9da6-4b80-845f-4e044465fff6",
   "metadata": {},
   "outputs": [
    {
     "data": {
      "text/html": [
       "<div>\n",
       "<style scoped>\n",
       "    .dataframe tbody tr th:only-of-type {\n",
       "        vertical-align: middle;\n",
       "    }\n",
       "\n",
       "    .dataframe tbody tr th {\n",
       "        vertical-align: top;\n",
       "    }\n",
       "\n",
       "    .dataframe thead th {\n",
       "        text-align: right;\n",
       "    }\n",
       "</style>\n",
       "<table border=\"1\" class=\"dataframe\">\n",
       "  <thead>\n",
       "    <tr style=\"text-align: right;\">\n",
       "      <th></th>\n",
       "      <th>recency</th>\n",
       "      <th>history_segment</th>\n",
       "      <th>history</th>\n",
       "      <th>mens</th>\n",
       "      <th>womens</th>\n",
       "      <th>zip_code</th>\n",
       "      <th>newbie</th>\n",
       "      <th>channel</th>\n",
       "      <th>segment</th>\n",
       "      <th>visit</th>\n",
       "      <th>conversion</th>\n",
       "      <th>spend</th>\n",
       "      <th>treatment</th>\n",
       "    </tr>\n",
       "  </thead>\n",
       "  <tbody>\n",
       "    <tr>\n",
       "      <th>1</th>\n",
       "      <td>6</td>\n",
       "      <td>3) $200 - $350</td>\n",
       "      <td>329.08</td>\n",
       "      <td>1</td>\n",
       "      <td>1</td>\n",
       "      <td>Rural</td>\n",
       "      <td>1</td>\n",
       "      <td>Web</td>\n",
       "      <td>No E-Mail</td>\n",
       "      <td>0</td>\n",
       "      <td>0</td>\n",
       "      <td>0.0</td>\n",
       "      <td>0</td>\n",
       "    </tr>\n",
       "    <tr>\n",
       "      <th>3</th>\n",
       "      <td>9</td>\n",
       "      <td>5) $500 - $750</td>\n",
       "      <td>675.83</td>\n",
       "      <td>1</td>\n",
       "      <td>0</td>\n",
       "      <td>Rural</td>\n",
       "      <td>1</td>\n",
       "      <td>Web</td>\n",
       "      <td>Mens E-Mail</td>\n",
       "      <td>0</td>\n",
       "      <td>0</td>\n",
       "      <td>0.0</td>\n",
       "      <td>1</td>\n",
       "    </tr>\n",
       "    <tr>\n",
       "      <th>8</th>\n",
       "      <td>9</td>\n",
       "      <td>5) $500 - $750</td>\n",
       "      <td>675.07</td>\n",
       "      <td>1</td>\n",
       "      <td>1</td>\n",
       "      <td>Rural</td>\n",
       "      <td>1</td>\n",
       "      <td>Phone</td>\n",
       "      <td>Mens E-Mail</td>\n",
       "      <td>0</td>\n",
       "      <td>0</td>\n",
       "      <td>0.0</td>\n",
       "      <td>1</td>\n",
       "    </tr>\n",
       "    <tr>\n",
       "      <th>13</th>\n",
       "      <td>2</td>\n",
       "      <td>2) $100 - $200</td>\n",
       "      <td>101.64</td>\n",
       "      <td>0</td>\n",
       "      <td>1</td>\n",
       "      <td>Urban</td>\n",
       "      <td>0</td>\n",
       "      <td>Web</td>\n",
       "      <td>Mens E-Mail</td>\n",
       "      <td>1</td>\n",
       "      <td>0</td>\n",
       "      <td>0.0</td>\n",
       "      <td>1</td>\n",
       "    </tr>\n",
       "    <tr>\n",
       "      <th>14</th>\n",
       "      <td>4</td>\n",
       "      <td>3) $200 - $350</td>\n",
       "      <td>241.42</td>\n",
       "      <td>0</td>\n",
       "      <td>1</td>\n",
       "      <td>Rural</td>\n",
       "      <td>1</td>\n",
       "      <td>Multichannel</td>\n",
       "      <td>No E-Mail</td>\n",
       "      <td>0</td>\n",
       "      <td>0</td>\n",
       "      <td>0.0</td>\n",
       "      <td>0</td>\n",
       "    </tr>\n",
       "  </tbody>\n",
       "</table>\n",
       "</div>"
      ],
      "text/plain": [
       "    recency history_segment  history  mens  womens zip_code  newbie  \\\n",
       "1         6  3) $200 - $350   329.08     1       1    Rural       1   \n",
       "3         9  5) $500 - $750   675.83     1       0    Rural       1   \n",
       "8         9  5) $500 - $750   675.07     1       1    Rural       1   \n",
       "13        2  2) $100 - $200   101.64     0       1    Urban       0   \n",
       "14        4  3) $200 - $350   241.42     0       1    Rural       1   \n",
       "\n",
       "         channel      segment  visit  conversion  spend  treatment  \n",
       "1            Web    No E-Mail      0           0    0.0          0  \n",
       "3            Web  Mens E-Mail      0           0    0.0          1  \n",
       "8          Phone  Mens E-Mail      0           0    0.0          1  \n",
       "13           Web  Mens E-Mail      1           0    0.0          1  \n",
       "14  Multichannel    No E-Mail      0           0    0.0          0  "
      ]
     },
     "execution_count": 3,
     "metadata": {},
     "output_type": "execute_result"
    }
   ],
   "source": [
    "df_male = df_email.query(\"segment != 'Womens E-Mail'\").copy()\n",
    "df_male[\"treatment\"] = np.where(df_male[\"segment\"] == \"Mens E-Mail\", 1, 0)\n",
    "df_male.head()"
   ]
  },
  {
   "cell_type": "markdown",
   "id": "55cd0c40-1930-4c36-9d5e-d283f054e686",
   "metadata": {},
   "source": [
    "## RCTデータの集計と有意差検定"
   ]
  },
  {
   "cell_type": "markdown",
   "id": "7d588efc-fd6a-4271-9bbe-6fd4162d46c9",
   "metadata": {},
   "source": [
    "**Rコード**\n",
    "```R\n",
    "# 集計による比較\n",
    "summary_by_segment <- male_df %>%\n",
    "    group_by(treatment) %>%\n",
    "    summarise(\n",
    "        conversion_rate = mean(conversion),\n",
    "        spend_mean = mean(spend),\n",
    "        count = n(),\n",
    "        .groups = \"drop\"\n",
    "    )\n",
    "\n",
    "# 介入群の購買データ\n",
    "mens_mail <- male_df %>%\n",
    "    filter(treatment == 1) %>%\n",
    "    pull(spend)\n",
    "\n",
    "# コントロールの購買データ\n",
    "no_mail <- male_df %>%\n",
    "    filter(treatment == 0) %>%\n",
    "    pull(spend)\n",
    "\n",
    "# 2群の平均についてt検定\n",
    "rct_ttest <- t.test(mens_mail, no_mail, var.equal = FALSE)\n",
    "rct_ttest\n",
    "```"
   ]
  },
  {
   "cell_type": "code",
   "execution_count": 4,
   "id": "21d14bba-7f4e-49b7-a8a0-60a7cf2edde8",
   "metadata": {},
   "outputs": [
    {
     "data": {
      "text/html": [
       "<div>\n",
       "<style scoped>\n",
       "    .dataframe tbody tr th:only-of-type {\n",
       "        vertical-align: middle;\n",
       "    }\n",
       "\n",
       "    .dataframe tbody tr th {\n",
       "        vertical-align: top;\n",
       "    }\n",
       "\n",
       "    .dataframe thead th {\n",
       "        text-align: right;\n",
       "    }\n",
       "</style>\n",
       "<table border=\"1\" class=\"dataframe\">\n",
       "  <thead>\n",
       "    <tr style=\"text-align: right;\">\n",
       "      <th></th>\n",
       "      <th>treatment</th>\n",
       "      <th>conversion</th>\n",
       "      <th>spend</th>\n",
       "      <th>count</th>\n",
       "    </tr>\n",
       "  </thead>\n",
       "  <tbody>\n",
       "    <tr>\n",
       "      <th>0</th>\n",
       "      <td>0</td>\n",
       "      <td>0.005726</td>\n",
       "      <td>0.652789</td>\n",
       "      <td>21306</td>\n",
       "    </tr>\n",
       "    <tr>\n",
       "      <th>1</th>\n",
       "      <td>1</td>\n",
       "      <td>0.012531</td>\n",
       "      <td>1.422617</td>\n",
       "      <td>21307</td>\n",
       "    </tr>\n",
       "  </tbody>\n",
       "</table>\n",
       "</div>"
      ],
      "text/plain": [
       "   treatment  conversion     spend  count\n",
       "0          0    0.005726  0.652789  21306\n",
       "1          1    0.012531  1.422617  21307"
      ]
     },
     "execution_count": 4,
     "metadata": {},
     "output_type": "execute_result"
    }
   ],
   "source": [
    "df_summary_by_segment = (df_male\n",
    "                         .groupby(\"treatment\")\n",
    "                         .agg({\"conversion\": \"mean\", \"spend\": \"mean\", \"channel\": \"size\"})\n",
    "                         .reset_index()\n",
    "                         .rename(columns={\"channel\": \"count\"})\n",
    "                        )\n",
    "df_summary_by_segment"
   ]
  },
  {
   "cell_type": "code",
   "execution_count": 5,
   "id": "203f1fea-1a33-4266-9817-ee6c799167d0",
   "metadata": {},
   "outputs": [
    {
     "data": {
      "text/plain": [
       "Ttest_indResult(statistic=5.300140358411668, pvalue=1.1638149682254859e-07)"
      ]
     },
     "execution_count": 5,
     "metadata": {},
     "output_type": "execute_result"
    }
   ],
   "source": [
    "mens_mail = df_male.query(\"treatment == 1\")[\"spend\"]\n",
    "no_mail = df_male.query(\"treatment == 0\")[\"spend\"]\n",
    "\n",
    "rct_ttest = ttest_ind(mens_mail, no_mail, equal_var=False)\n",
    "rct_ttest"
   ]
  },
  {
   "cell_type": "code",
   "execution_count": null,
   "id": "95f76515-232e-4067-9302-d77e4e9eca06",
   "metadata": {},
   "outputs": [],
   "source": []
  },
  {
   "cell_type": "markdown",
   "id": "241796a6-2133-4891-9c44-2821749b8056",
   "metadata": {},
   "source": [
    "# バイアスのあるデータで検証"
   ]
  },
  {
   "cell_type": "markdown",
   "id": "06c2ec65-68ab-472c-b152-da98c980896e",
   "metadata": {},
   "source": [
    "## バイアスのあるデータの準備"
   ]
  },
  {
   "cell_type": "markdown",
   "id": "2d6508e7-c0d4-42cd-9020-c3d55134359b",
   "metadata": {},
   "source": [
    "**Rコード**\n",
    "```R\n",
    "set.seed(1)\n",
    "\n",
    "# 条件に反応するサンプルの量を半分にする\n",
    "obs_rate_c <- 0.5\n",
    "obs_rate_t <- 0.5\n",
    "\n",
    "# バイアスのあるデータの作成\n",
    "biased_data <- male_df %>%\n",
    "    mutate(\n",
    "        obs_rate_c = if_else(\n",
    "            (history > 300) | (recency < 6) | (channel == \"Multichannel\"),\n",
    "            obs_rate_c,\n",
    "            1\n",
    "        ),\n",
    "        obs_rate_t = if_else(\n",
    "            (history > 300) | (recency < 6) | (channel == \"Multichannel\"),\n",
    "            1,\n",
    "            obs_rate_t\n",
    "        ),\n",
    "        random_number = runif(n = NROW(male_df))\n",
    "    ) %>%\n",
    "    filter(\n",
    "        (treatment == 0 & random_number < obs_rate_c) |\n",
    "        (treatment == 1 & random_number < obs_rate_t)\n",
    "    )\n",
    "```"
   ]
  },
  {
   "cell_type": "code",
   "execution_count": 6,
   "id": "c6b8f849-b7d6-4f13-bc18-64103f26af19",
   "metadata": {},
   "outputs": [],
   "source": [
    "obs_rate_c = 0.5\n",
    "obs_rate_t = 0.5\n",
    "\n",
    "df_biased_email = (df_male\n",
    "                   .assign(\n",
    "                       obs_rate_c=np.where(\n",
    "                           (df_male[\"history\"] > 300) | (df_male[\"recency\"] < 6) | (df_male[\"channel\"] == \"Multichannel\"),\n",
    "                           obs_rate_c,\n",
    "                           1\n",
    "                       )\n",
    "                   )\n",
    "                   .assign(\n",
    "                       obs_rate_t=np.where(\n",
    "                           (df_male[\"history\"] > 300) | (df_male[\"recency\"] < 6) | (df_male[\"channel\"] == \"Multichannel\"),\n",
    "                           obs_rate_t,\n",
    "                           1\n",
    "                       )\n",
    "                   )\n",
    "                   .assign(random_number=uniform.rvs(size=len(df_male), random_state=46))\n",
    "                   .query(\"(treatment == 0 & random_number < obs_rate_c) | (treatment == 1 & random_number < obs_rate_t)\")\n",
    ")"
   ]
  },
  {
   "cell_type": "markdown",
   "id": "5ae615b9-f86a-420f-8efb-b7c9c3ed8380",
   "metadata": {},
   "source": [
    "## バイアスのあるデータの集計と有意差検定"
   ]
  },
  {
   "cell_type": "markdown",
   "id": "ea89ea78-c15d-413a-aa7a-83d7fb99e609",
   "metadata": {
    "tags": []
   },
   "source": [
    "**Rコード**\n",
    "```R\n",
    "summary_by_segment_biased <- biased_data %>%\n",
    "    group_by(treatment) %>%\n",
    "    summarise(\n",
    "        conversion_rate = mean(conversion),\n",
    "        spend_mean = mean(spend),\n",
    "        count = n(),\n",
    "        .groups = \"drop\"\n",
    "    )\n",
    "\n",
    "# 介入群の購買データ\n",
    "mens_mail_biased <- biased_data %>%\n",
    "    filter(treatment == 1) %>%\n",
    "    pull(spend)\n",
    "\n",
    "# コントロール群の購買データ\n",
    "no_mail_biased <- biased_data %>%\n",
    "    filter(treatment == 0) %>%\n",
    "    pull(spend)\n",
    "\n",
    "# 2群の平均の差についてt検定\n",
    "rct_ttest_biased <- t.test(mens_mail_biased, no_mail_biased, var.equal = F)\n",
    "rct_ttest_biased\n",
    "```"
   ]
  },
  {
   "cell_type": "code",
   "execution_count": 7,
   "id": "ca8dab45-7dcb-4790-8758-1df62ba2374f",
   "metadata": {},
   "outputs": [
    {
     "data": {
      "text/html": [
       "<div>\n",
       "<style scoped>\n",
       "    .dataframe tbody tr th:only-of-type {\n",
       "        vertical-align: middle;\n",
       "    }\n",
       "\n",
       "    .dataframe tbody tr th {\n",
       "        vertical-align: top;\n",
       "    }\n",
       "\n",
       "    .dataframe thead th {\n",
       "        text-align: right;\n",
       "    }\n",
       "</style>\n",
       "<table border=\"1\" class=\"dataframe\">\n",
       "  <thead>\n",
       "    <tr style=\"text-align: right;\">\n",
       "      <th></th>\n",
       "      <th>treatment</th>\n",
       "      <th>conversion</th>\n",
       "      <th>spend</th>\n",
       "      <th>count</th>\n",
       "    </tr>\n",
       "  </thead>\n",
       "  <tbody>\n",
       "    <tr>\n",
       "      <th>0</th>\n",
       "      <td>0</td>\n",
       "      <td>0.005492</td>\n",
       "      <td>0.597426</td>\n",
       "      <td>14749</td>\n",
       "    </tr>\n",
       "    <tr>\n",
       "      <th>1</th>\n",
       "      <td>1</td>\n",
       "      <td>0.012376</td>\n",
       "      <td>1.445769</td>\n",
       "      <td>14867</td>\n",
       "    </tr>\n",
       "  </tbody>\n",
       "</table>\n",
       "</div>"
      ],
      "text/plain": [
       "   treatment  conversion     spend  count\n",
       "0          0    0.005492  0.597426  14749\n",
       "1          1    0.012376  1.445769  14867"
      ]
     },
     "execution_count": 7,
     "metadata": {},
     "output_type": "execute_result"
    }
   ],
   "source": [
    "df_summary_by_segment_biased = (df_biased_email\n",
    "                        .groupby(\"treatment\")\n",
    "                        .agg({\"conversion\": \"mean\", \"spend\": \"mean\", \"channel\": \"size\"})\n",
    "                        .reset_index()\n",
    "                        .rename(columns={\"channel\": \"count\"})\n",
    "                        )\n",
    "df_summary_by_segment_biased"
   ]
  },
  {
   "cell_type": "code",
   "execution_count": 8,
   "id": "c1bc5df6-cd17-409d-bde9-4050a1a779a1",
   "metadata": {},
   "outputs": [
    {
     "data": {
      "text/plain": [
       "Ttest_indResult(statistic=4.8859950100455345, pvalue=1.0356835645899504e-06)"
      ]
     },
     "execution_count": 8,
     "metadata": {},
     "output_type": "execute_result"
    }
   ],
   "source": [
    "mens_mail_biased = df_biased_email.query(\"treatment == 1\")[\"spend\"]\n",
    "no_mail_biased = df_biased_email.query(\"treatment == 0\")[\"spend\"]\n",
    "\n",
    "rct_ttest_biased = ttest_ind(mens_mail_biased, no_mail_biased, equal_var=False)\n",
    "rct_ttest_biased"
   ]
  },
  {
   "cell_type": "code",
   "execution_count": null,
   "id": "b6d5e01b-1e89-4b76-8911-57aa67db2248",
   "metadata": {},
   "outputs": [],
   "source": []
  },
  {
   "cell_type": "markdown",
   "id": "fbf51898-aa4d-475f-aada-72bb1243fb26",
   "metadata": {},
   "source": [
    "# 回帰分析でバイアスのあるデータの検証"
   ]
  },
  {
   "cell_type": "markdown",
   "id": "89bb2433-8889-4041-b134-e0bc7fa876b3",
   "metadata": {},
   "source": [
    "## バイアスのあるデータで回帰分析"
   ]
  },
  {
   "cell_type": "markdown",
   "id": "25a5a6c1-df48-4c75-9230-1a2cbca7cd54",
   "metadata": {},
   "source": [
    "目的変数にユーザの購入学額(spend)をとり，介入変数(treatment)にメールの有無，そして共変量として過去の購入額(history)を使ったモデル\n",
    "\n",
    "$Spend_i = \\beta_0 + \\beta_{treatment}treatment_i + \\beta_{history}history_i$"
   ]
  },
  {
   "cell_type": "markdown",
   "id": "c9248b3b-8e97-49c8-ba31-579fc103004f",
   "metadata": {},
   "source": [
    "**Rコード**\n",
    "```R\n",
    "biased_reg <- lm(data = biased_data, formula = spend ~ treatment + history)\n",
    "\n",
    "biased_reg_coef <- tidy(biased_reg)\n",
    "biased_reg_coef\n",
    "```"
   ]
  },
  {
   "cell_type": "code",
   "execution_count": 9,
   "id": "c15db20e-8e7b-4eb0-9237-b846c823ca08",
   "metadata": {},
   "outputs": [
    {
     "name": "stdout",
     "output_type": "stream",
     "text": [
      "                            OLS Regression Results                            \n",
      "==============================================================================\n",
      "Dep. Variable:                  spend   R-squared:                       0.001\n",
      "Model:                            OLS   Adj. R-squared:                  0.001\n",
      "Method:                 Least Squares   F-statistic:                     19.59\n",
      "Date:                Thu, 18 Aug 2022   Prob (F-statistic):           3.16e-09\n",
      "Time:                        02:42:22   Log-Likelihood:            -1.2215e+05\n",
      "No. Observations:               29616   AIC:                         2.443e+05\n",
      "Df Residuals:                   29613   BIC:                         2.443e+05\n",
      "Df Model:                           2                                         \n",
      "Covariance Type:            nonrobust                                         \n",
      "==============================================================================\n",
      "                 coef    std err          t      P>|t|      [0.025      0.975]\n",
      "------------------------------------------------------------------------------\n",
      "const          0.2974      0.145      2.050      0.040       0.013       0.582\n",
      "treatment      0.8471      0.174      4.871      0.000       0.506       1.188\n",
      "history        0.0015      0.000      3.922      0.000       0.001       0.002\n",
      "==============================================================================\n",
      "Omnibus:                    65936.793   Durbin-Watson:                   1.992\n",
      "Prob(Omnibus):                  0.000   Jarque-Bera (JB):        340916765.176\n",
      "Skew:                          21.012   Prob(JB):                         0.00\n",
      "Kurtosis:                     526.931   Cond. No.                         730.\n",
      "==============================================================================\n",
      "\n",
      "Notes:\n",
      "[1] Standard Errors assume that the covariance matrix of the errors is correctly specified.\n"
     ]
    }
   ],
   "source": [
    "X = sm.add_constant(df_biased_email[[\"treatment\", \"history\"]])\n",
    "y = df_biased_email[\"spend\"]\n",
    "\n",
    "model = sm.OLS(y, X)\n",
    "biased_reg = model.fit()\n",
    "print(biased_reg.summary())"
   ]
  },
  {
   "cell_type": "markdown",
   "id": "733c5e06-46d1-4b9b-9b8d-a9f6d3cc75e5",
   "metadata": {},
   "source": [
    "## 効果検証のための回帰分析で行わないこと"
   ]
  },
  {
   "cell_type": "markdown",
   "id": "5cfb22a4-7fc8-47aa-825d-8cacf6c2e1f7",
   "metadata": {},
   "source": [
    "効果検証のための回帰分析では，$\\beta_{treatment}$以外の推定結果には興味がなく，それらのパラメータが本当の効果を表すようになる努力も行わないため，  \n",
    "介入効果を示すパラメータ以外については無視することになる．有意差検定も同様に，興味のあるパラメータ以外の検定結果は一切解釈しない．  \n",
    "分析の目的上，共変量のパラメータに関して興味がないため．そのパラメータが0でもそうでなくてもどちらでも良いということになる．"
   ]
  },
  {
   "cell_type": "markdown",
   "id": "7cb15a7e-7c87-4276-b211-7c6271d5fa6e",
   "metadata": {},
   "source": [
    "回帰分析によって得られたモデルは条件付き期待値を表すだけでなく，Yに対して誤差が最小になる式でもある．  \n",
    "\n",
    "$E[Spend|history,treatment]$\n",
    "\n",
    "$= \\widehat{Spend}$\n",
    "\n",
    "$= \\hat{\\beta_0} + \\hat{\\beta}treatment + \\hat{\\beta}history$\n",
    "\n",
    "$= 0.3 + 0.85treatment + 0.002history$\n",
    "\n",
    "この式にtreatmentとhistoryの値を代入すれば，spendに対する予測値である$\\widehat{Spend_i}$を手に入れることができるため，  \n",
    "回帰分析はまだ見ぬサンプルに対する予測に用いられることもある．"
   ]
  },
  {
   "cell_type": "markdown",
   "id": "662f4980-1a59-42cc-ab0a-b67749b821f9",
   "metadata": {},
   "source": [
    "# 回帰分析におけるバイアス"
   ]
  },
  {
   "cell_type": "markdown",
   "id": "6e741466-4de6-4acf-8bfb-a376d4ea7c56",
   "metadata": {},
   "source": [
    "## RCTを行ったデータでの単回帰"
   ]
  },
  {
   "cell_type": "markdown",
   "id": "4cbf9674-0145-479a-aed5-b2c38471152a",
   "metadata": {},
   "source": [
    "**Rコード**\n",
    "```R\n",
    "rct_reg <- lm(data = male_df, formula = spend ~ treatment)\n",
    "rct_reg_coef <- summary(rct_reg) %>% tidy()\n",
    "```"
   ]
  },
  {
   "cell_type": "code",
   "execution_count": 10,
   "id": "b07913a1-2848-4c7b-99a6-66e786049e94",
   "metadata": {},
   "outputs": [
    {
     "name": "stdout",
     "output_type": "stream",
     "text": [
      "                            OLS Regression Results                            \n",
      "==============================================================================\n",
      "Dep. Variable:                  spend   R-squared:                       0.001\n",
      "Model:                            OLS   Adj. R-squared:                  0.001\n",
      "Method:                 Least Squares   F-statistic:                     23.30\n",
      "Date:                Thu, 18 Aug 2022   Prob (F-statistic):           7.69e-11\n",
      "Time:                        02:42:22   Log-Likelihood:            -1.7583e+05\n",
      "No. Observations:               42613   AIC:                         3.517e+05\n",
      "Df Residuals:                   42610   BIC:                         3.517e+05\n",
      "Df Model:                           2                                         \n",
      "Covariance Type:            nonrobust                                         \n",
      "==============================================================================\n",
      "                 coef    std err          t      P>|t|      [0.025      0.975]\n",
      "------------------------------------------------------------------------------\n",
      "const          0.3596      0.123      2.917      0.004       0.118       0.601\n",
      "treatment      0.7674      0.145      5.285      0.000       0.483       1.052\n",
      "history        0.0012      0.000      4.301      0.000       0.001       0.002\n",
      "==============================================================================\n",
      "Omnibus:                    94870.274   Durbin-Watson:                   2.000\n",
      "Prob(Omnibus):                  0.000   Jarque-Bera (JB):        502165354.939\n",
      "Skew:                          21.019   Prob(JB):                         0.00\n",
      "Kurtosis:                     533.148   Cond. No.                         828.\n",
      "==============================================================================\n",
      "\n",
      "Notes:\n",
      "[1] Standard Errors assume that the covariance matrix of the errors is correctly specified.\n"
     ]
    }
   ],
   "source": [
    "X = sm.add_constant(df_male[[\"treatment\", \"history\"]])\n",
    "y = df_male[\"spend\"]\n",
    "\n",
    "model = sm.OLS(y, X)\n",
    "rct_reg = model.fit()\n",
    "print(rct_reg.summary())"
   ]
  },
  {
   "cell_type": "markdown",
   "id": "88409069-f31d-49a3-b531-1cf1cf4059e4",
   "metadata": {},
   "source": [
    "RCTを行っているデータはRCTの分析結果と同じになっている"
   ]
  },
  {
   "cell_type": "code",
   "execution_count": null,
   "id": "c30d93e1-1706-464c-920d-00be83f8b4b5",
   "metadata": {},
   "outputs": [],
   "source": []
  },
  {
   "cell_type": "markdown",
   "id": "1e781ced-b33b-4aa3-b01f-f17576ce287d",
   "metadata": {},
   "source": [
    "## バイアスのあるデータでの単回帰"
   ]
  },
  {
   "cell_type": "markdown",
   "id": "ca4cc884-79fb-475e-bd49-e5b939687f13",
   "metadata": {},
   "source": [
    "**Rコード**\n",
    "```R\n",
    "nonrct_reg <- lm(data = male_df, formula = spend ~ treatment)\n",
    "nonrct_reg_coef <- summary(rct_reg) %>% tidy()\n",
    "```"
   ]
  },
  {
   "cell_type": "code",
   "execution_count": 11,
   "id": "61c77b97-c7f5-4f09-b625-203a0c341707",
   "metadata": {},
   "outputs": [
    {
     "name": "stdout",
     "output_type": "stream",
     "text": [
      "                            OLS Regression Results                            \n",
      "==============================================================================\n",
      "Dep. Variable:                  spend   R-squared:                       0.001\n",
      "Model:                            OLS   Adj. R-squared:                  0.001\n",
      "Method:                 Least Squares   F-statistic:                     23.78\n",
      "Date:                Thu, 18 Aug 2022   Prob (F-statistic):           1.09e-06\n",
      "Time:                        02:42:22   Log-Likelihood:            -1.2216e+05\n",
      "No. Observations:               29616   AIC:                         2.443e+05\n",
      "Df Residuals:                   29614   BIC:                         2.443e+05\n",
      "Df Model:                           1                                         \n",
      "Covariance Type:            nonrobust                                         \n",
      "==============================================================================\n",
      "                 coef    std err          t      P>|t|      [0.025      0.975]\n",
      "------------------------------------------------------------------------------\n",
      "const          0.5974      0.123      4.847      0.000       0.356       0.839\n",
      "treatment      0.8483      0.174      4.877      0.000       0.507       1.189\n",
      "==============================================================================\n",
      "Omnibus:                    65939.230   Durbin-Watson:                   1.991\n",
      "Prob(Omnibus):                  0.000   Jarque-Bera (JB):        340778463.560\n",
      "Skew:                          21.014   Prob(JB):                         0.00\n",
      "Kurtosis:                     526.824   Cond. No.                         2.62\n",
      "==============================================================================\n",
      "\n",
      "Notes:\n",
      "[1] Standard Errors assume that the covariance matrix of the errors is correctly specified.\n"
     ]
    }
   ],
   "source": [
    "X = sm.add_constant(df_biased_email[[\"treatment\"]])\n",
    "y = df_biased_email[\"spend\"]\n",
    "\n",
    "model = sm.OLS(y, X)\n",
    "nonrct_reg = model.fit()\n",
    "print(nonrct_reg.summary())"
   ]
  },
  {
   "cell_type": "markdown",
   "id": "2cf10a42-68ed-484f-916f-c6b0473505da",
   "metadata": {},
   "source": [
    "バイアスのあるデータでは$\\beta_{treatment}$の値が大きくなり，過剰に効果が見積もられている．"
   ]
  },
  {
   "cell_type": "code",
   "execution_count": null,
   "id": "edad3f3c-c078-4b88-bc12-219bb87bf92f",
   "metadata": {},
   "outputs": [],
   "source": []
  },
  {
   "cell_type": "markdown",
   "id": "ccef6320-3853-4ea7-a7c3-025f31fab895",
   "metadata": {},
   "source": [
    "## バイアスのあるデータでの重回帰"
   ]
  },
  {
   "cell_type": "markdown",
   "id": "2b123fe8-9c28-4e46-abea-542b27f242dc",
   "metadata": {},
   "source": [
    "**Rコード**\n",
    "```R\n",
    "nonrct_mreg <- lm(\n",
    "    data = male_df,\n",
    "    formula = spend ~ treatment + recency + channel + history\n",
    ")\n",
    "nonrct_mreg_coef <- summary(rct_reg) %>% tidy()\n",
    "```"
   ]
  },
  {
   "cell_type": "code",
   "execution_count": 12,
   "id": "36995986-9ba8-48d2-8a70-b14a8a885443",
   "metadata": {},
   "outputs": [
    {
     "name": "stdout",
     "output_type": "stream",
     "text": [
      "                            OLS Regression Results                            \n",
      "==============================================================================\n",
      "Dep. Variable:                  spend   R-squared:                       0.002\n",
      "Model:                            OLS   Adj. R-squared:                  0.001\n",
      "Method:                 Least Squares   F-statistic:                     9.436\n",
      "Date:                Thu, 18 Aug 2022   Prob (F-statistic):           5.31e-09\n",
      "Time:                        02:42:22   Log-Likelihood:            -1.2215e+05\n",
      "No. Observations:               29616   AIC:                         2.443e+05\n",
      "Df Residuals:                   29610   BIC:                         2.444e+05\n",
      "Df Model:                           5                                         \n",
      "Covariance Type:            nonrobust                                         \n",
      "=================================================================================\n",
      "                    coef    std err          t      P>|t|      [0.025      0.975]\n",
      "---------------------------------------------------------------------------------\n",
      "const             0.2478      0.419      0.592      0.554      -0.573       1.068\n",
      "treatment         0.8478      0.174      4.875      0.000       0.507       1.189\n",
      "recency          -0.0570      0.027     -2.133      0.033      -0.109      -0.005\n",
      "history           0.0014      0.000      3.377      0.001       0.001       0.002\n",
      "channel_Phone     0.3500      0.352      0.995      0.320      -0.340       1.040\n",
      "channel_Web       0.5941      0.351      1.693      0.091      -0.094       1.282\n",
      "==============================================================================\n",
      "Omnibus:                    65928.971   Durbin-Watson:                   1.992\n",
      "Prob(Omnibus):                  0.000   Jarque-Bera (JB):        340676785.473\n",
      "Skew:                          21.006   Prob(JB):                         0.00\n",
      "Kurtosis:                     526.746   Cond. No.                     2.17e+03\n",
      "==============================================================================\n",
      "\n",
      "Notes:\n",
      "[1] Standard Errors assume that the covariance matrix of the errors is correctly specified.\n",
      "[2] The condition number is large, 2.17e+03. This might indicate that there are\n",
      "strong multicollinearity or other numerical problems.\n"
     ]
    }
   ],
   "source": [
    "X = sm.add_constant(pd.get_dummies(df_biased_email[[\"treatment\", \"recency\", \"channel\", \"history\"]], drop_first=True))\n",
    "y = df_biased_email[\"spend\"]\n",
    "\n",
    "model = sm.OLS(y, X)\n",
    "nonrct_mreg = model.fit()\n",
    "print(nonrct_mreg.summary())"
   ]
  },
  {
   "cell_type": "markdown",
   "id": "f8d91b4f-db6f-4ea3-896b-622667779dc1",
   "metadata": {},
   "source": [
    "$\\beta_{treatment}$はRCTにおける推定値に近づいている．"
   ]
  },
  {
   "cell_type": "code",
   "execution_count": null,
   "id": "0c702677-f950-4158-b151-5fde6de97383",
   "metadata": {},
   "outputs": [],
   "source": []
  }
 ],
 "metadata": {
  "kernelspec": {
   "display_name": "Python 3 (ipykernel)",
   "language": "python",
   "name": "python3"
  },
  "language_info": {
   "codemirror_mode": {
    "name": "ipython",
    "version": 3
   },
   "file_extension": ".py",
   "mimetype": "text/x-python",
   "name": "python",
   "nbconvert_exporter": "python",
   "pygments_lexer": "ipython3",
   "version": "3.10.5"
  },
  "widgets": {
   "application/vnd.jupyter.widget-state+json": {
    "state": {},
    "version_major": 2,
    "version_minor": 0
   }
  }
 },
 "nbformat": 4,
 "nbformat_minor": 5
}
