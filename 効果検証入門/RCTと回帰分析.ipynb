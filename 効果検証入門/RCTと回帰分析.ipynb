{
 "cells": [
  {
   "cell_type": "markdown",
   "id": "065b2132-dcb8-47f3-85a8-65b148595641",
   "metadata": {},
   "source": [
    "# RCTデータで検証"
   ]
  },
  {
   "cell_type": "markdown",
   "id": "dbc2aaec-3e4a-4f02-8350-9b3f24c446d1",
   "metadata": {},
   "source": [
    "## RCTを行ったデータの準備"
   ]
  },
  {
   "cell_type": "markdown",
   "id": "c73744de-ecb5-4ca1-9a0b-956ae71d91c1",
   "metadata": {},
   "source": [
    "**Rコード**\n",
    "\n",
    "```R\n",
    "# ライブラリーimport\n",
    "library(tidyverse)\n",
    "library(broom)\n",
    "\n",
    "# データフレーム読み込み\n",
    "email_data <- read_csv(\"http://www.minethatdata.com/Kevin_Hillstrom_MineThatData_E-MailAnalytics_DataMiningChallenge_2008.03.20.csv\")\n",
    "\n",
    "# 男性のみに限定\n",
    "male_df <- email_data %>%\n",
    "    filter(segment != \"Womens E-Mail\") %>%\n",
    "    mutate(\n",
    "        treatment = if_else(segment == \"Mens E-Mail\", 1, 0)\n",
    "    )\n",
    "```\n",
    "\n",
    "**データ説明**\n",
    "\n",
    "|変数名|説明|\n",
    "|:-------|:------|\n",
    "|recency|最後の購入からの経過月数|\n",
    "|history_segment|昨年の購入額の階層|\n",
    "|history|昨年の購入額|\n",
    "|mens|昨年に男物の商品を購入しているか|\n",
    "|womens|昨年に女物の商品を購入しているか|\n",
    "|zipcode|zipcodeをもとに地区を分類したもの|\n",
    "|newbie|過去12ヶ月以内に新しくユーザになったか|\n",
    "|channel|昨年においてどのチャンネルから購入したか|\n",
    "|segment|どのメールが配信されたか|\n",
    "|visit|メールが配信されてから2週間以内にサイトへ来訪したか|\n",
    "|conversion|メールが配信されてから2週間以内に購入したか|\n",
    "|spend|購入した際の購入額|"
   ]
  },
  {
   "cell_type": "code",
   "execution_count": 10,
   "id": "e29a1e20-1897-4763-9f48-47c26adab660",
   "metadata": {},
   "outputs": [],
   "source": [
    "import numpy as np\n",
    "import pandas as pd\n",
    "from scipy.stats import ttest_ind"
   ]
  },
  {
   "cell_type": "code",
   "execution_count": 2,
   "id": "c4b8c6cc-15f2-4447-b8f1-46719fb385bd",
   "metadata": {},
   "outputs": [],
   "source": [
    "df_email_data = pd.read_csv(\"http://www.minethatdata.com/Kevin_Hillstrom_MineThatData_E-MailAnalytics_DataMiningChallenge_2008.03.20.csv\")"
   ]
  },
  {
   "cell_type": "code",
   "execution_count": 3,
   "id": "7532ae12-9da6-4b80-845f-4e044465fff6",
   "metadata": {},
   "outputs": [
    {
     "data": {
      "text/html": [
       "<div>\n",
       "<style scoped>\n",
       "    .dataframe tbody tr th:only-of-type {\n",
       "        vertical-align: middle;\n",
       "    }\n",
       "\n",
       "    .dataframe tbody tr th {\n",
       "        vertical-align: top;\n",
       "    }\n",
       "\n",
       "    .dataframe thead th {\n",
       "        text-align: right;\n",
       "    }\n",
       "</style>\n",
       "<table border=\"1\" class=\"dataframe\">\n",
       "  <thead>\n",
       "    <tr style=\"text-align: right;\">\n",
       "      <th></th>\n",
       "      <th>recency</th>\n",
       "      <th>history_segment</th>\n",
       "      <th>history</th>\n",
       "      <th>mens</th>\n",
       "      <th>womens</th>\n",
       "      <th>zip_code</th>\n",
       "      <th>newbie</th>\n",
       "      <th>channel</th>\n",
       "      <th>segment</th>\n",
       "      <th>visit</th>\n",
       "      <th>conversion</th>\n",
       "      <th>spend</th>\n",
       "      <th>treatment</th>\n",
       "    </tr>\n",
       "  </thead>\n",
       "  <tbody>\n",
       "    <tr>\n",
       "      <th>1</th>\n",
       "      <td>6</td>\n",
       "      <td>3) $200 - $350</td>\n",
       "      <td>329.08</td>\n",
       "      <td>1</td>\n",
       "      <td>1</td>\n",
       "      <td>Rural</td>\n",
       "      <td>1</td>\n",
       "      <td>Web</td>\n",
       "      <td>No E-Mail</td>\n",
       "      <td>0</td>\n",
       "      <td>0</td>\n",
       "      <td>0.0</td>\n",
       "      <td>0</td>\n",
       "    </tr>\n",
       "    <tr>\n",
       "      <th>3</th>\n",
       "      <td>9</td>\n",
       "      <td>5) $500 - $750</td>\n",
       "      <td>675.83</td>\n",
       "      <td>1</td>\n",
       "      <td>0</td>\n",
       "      <td>Rural</td>\n",
       "      <td>1</td>\n",
       "      <td>Web</td>\n",
       "      <td>Mens E-Mail</td>\n",
       "      <td>0</td>\n",
       "      <td>0</td>\n",
       "      <td>0.0</td>\n",
       "      <td>1</td>\n",
       "    </tr>\n",
       "    <tr>\n",
       "      <th>8</th>\n",
       "      <td>9</td>\n",
       "      <td>5) $500 - $750</td>\n",
       "      <td>675.07</td>\n",
       "      <td>1</td>\n",
       "      <td>1</td>\n",
       "      <td>Rural</td>\n",
       "      <td>1</td>\n",
       "      <td>Phone</td>\n",
       "      <td>Mens E-Mail</td>\n",
       "      <td>0</td>\n",
       "      <td>0</td>\n",
       "      <td>0.0</td>\n",
       "      <td>1</td>\n",
       "    </tr>\n",
       "    <tr>\n",
       "      <th>13</th>\n",
       "      <td>2</td>\n",
       "      <td>2) $100 - $200</td>\n",
       "      <td>101.64</td>\n",
       "      <td>0</td>\n",
       "      <td>1</td>\n",
       "      <td>Urban</td>\n",
       "      <td>0</td>\n",
       "      <td>Web</td>\n",
       "      <td>Mens E-Mail</td>\n",
       "      <td>1</td>\n",
       "      <td>0</td>\n",
       "      <td>0.0</td>\n",
       "      <td>1</td>\n",
       "    </tr>\n",
       "    <tr>\n",
       "      <th>14</th>\n",
       "      <td>4</td>\n",
       "      <td>3) $200 - $350</td>\n",
       "      <td>241.42</td>\n",
       "      <td>0</td>\n",
       "      <td>1</td>\n",
       "      <td>Rural</td>\n",
       "      <td>1</td>\n",
       "      <td>Multichannel</td>\n",
       "      <td>No E-Mail</td>\n",
       "      <td>0</td>\n",
       "      <td>0</td>\n",
       "      <td>0.0</td>\n",
       "      <td>0</td>\n",
       "    </tr>\n",
       "  </tbody>\n",
       "</table>\n",
       "</div>"
      ],
      "text/plain": [
       "    recency history_segment  history  mens  womens zip_code  newbie  \\\n",
       "1         6  3) $200 - $350   329.08     1       1    Rural       1   \n",
       "3         9  5) $500 - $750   675.83     1       0    Rural       1   \n",
       "8         9  5) $500 - $750   675.07     1       1    Rural       1   \n",
       "13        2  2) $100 - $200   101.64     0       1    Urban       0   \n",
       "14        4  3) $200 - $350   241.42     0       1    Rural       1   \n",
       "\n",
       "         channel      segment  visit  conversion  spend  treatment  \n",
       "1            Web    No E-Mail      0           0    0.0          0  \n",
       "3            Web  Mens E-Mail      0           0    0.0          1  \n",
       "8          Phone  Mens E-Mail      0           0    0.0          1  \n",
       "13           Web  Mens E-Mail      1           0    0.0          1  \n",
       "14  Multichannel    No E-Mail      0           0    0.0          0  "
      ]
     },
     "execution_count": 3,
     "metadata": {},
     "output_type": "execute_result"
    }
   ],
   "source": [
    "df_male = df_email_data.query(\"segment != 'Womens E-Mail'\").copy()\n",
    "df_male[\"treatment\"] = np.where(df_male[\"segment\"] == \"Mens E-Mail\", 1, 0)\n",
    "df_male.head()"
   ]
  },
  {
   "cell_type": "markdown",
   "id": "55cd0c40-1930-4c36-9d5e-d283f054e686",
   "metadata": {},
   "source": [
    "## RCTデータの集計と有意差検定"
   ]
  },
  {
   "cell_type": "markdown",
   "id": "7d588efc-fd6a-4271-9bbe-6fd4162d46c9",
   "metadata": {},
   "source": [
    "**Rコード**\n",
    "```R\n",
    "# 集計による比較\n",
    "summary_by_segment <- male_df %>%\n",
    "    group_by(treatment) %>%\n",
    "    summarise(\n",
    "        conversion_rate = mean(conversion),\n",
    "        spend_mean = mean(spend),\n",
    "        count = n(),\n",
    "        .groups = \"drop\"\n",
    "    )\n",
    "\n",
    "# 介入群の購買データ\n",
    "mens_mail <- male_df %>%\n",
    "    filter(treatment == 1) %>%\n",
    "    pull(spend)\n",
    "\n",
    "# コントロールの購買データ\n",
    "no_mail <- male_df %>%\n",
    "    filter(treatment == 0) %>%\n",
    "    pull(spend)\n",
    "\n",
    "# 2群の平均についてt検定\n",
    "rct_ttest <- t.test(mens_mail, no_mail, var.equal = FALSE)\n",
    "rct_ttest\n",
    "```"
   ]
  },
  {
   "cell_type": "code",
   "execution_count": 9,
   "id": "21d14bba-7f4e-49b7-a8a0-60a7cf2edde8",
   "metadata": {},
   "outputs": [
    {
     "data": {
      "text/html": [
       "<div>\n",
       "<style scoped>\n",
       "    .dataframe tbody tr th:only-of-type {\n",
       "        vertical-align: middle;\n",
       "    }\n",
       "\n",
       "    .dataframe tbody tr th {\n",
       "        vertical-align: top;\n",
       "    }\n",
       "\n",
       "    .dataframe thead th {\n",
       "        text-align: right;\n",
       "    }\n",
       "</style>\n",
       "<table border=\"1\" class=\"dataframe\">\n",
       "  <thead>\n",
       "    <tr style=\"text-align: right;\">\n",
       "      <th></th>\n",
       "      <th>treatment</th>\n",
       "      <th>conversion</th>\n",
       "      <th>spend</th>\n",
       "      <th>channel</th>\n",
       "    </tr>\n",
       "  </thead>\n",
       "  <tbody>\n",
       "    <tr>\n",
       "      <th>0</th>\n",
       "      <td>0</td>\n",
       "      <td>0.005726</td>\n",
       "      <td>0.652789</td>\n",
       "      <td>21306</td>\n",
       "    </tr>\n",
       "    <tr>\n",
       "      <th>1</th>\n",
       "      <td>1</td>\n",
       "      <td>0.012531</td>\n",
       "      <td>1.422617</td>\n",
       "      <td>21307</td>\n",
       "    </tr>\n",
       "  </tbody>\n",
       "</table>\n",
       "</div>"
      ],
      "text/plain": [
       "   treatment  conversion     spend  channel\n",
       "0          0    0.005726  0.652789    21306\n",
       "1          1    0.012531  1.422617    21307"
      ]
     },
     "execution_count": 9,
     "metadata": {},
     "output_type": "execute_result"
    }
   ],
   "source": [
    "df_summary_by_segment = (df_male\n",
    "                         .groupby(\"treatment\")\n",
    "                         .agg({\"conversion\": \"mean\", \"spend\": \"mean\", \"channel\": \"size\"})\n",
    "                         .reset_index()\n",
    "                        )\n",
    "df_summary_by_segment"
   ]
  },
  {
   "cell_type": "code",
   "execution_count": 11,
   "id": "203f1fea-1a33-4266-9817-ee6c799167d0",
   "metadata": {},
   "outputs": [
    {
     "data": {
      "text/plain": [
       "Ttest_indResult(statistic=5.300140358411668, pvalue=1.1638149682254859e-07)"
      ]
     },
     "execution_count": 11,
     "metadata": {},
     "output_type": "execute_result"
    }
   ],
   "source": [
    "mens_mail = df_male.query(\"treatment == 1\")[\"spend\"]\n",
    "no_mail = df_male.query(\"treatment == 0\")[\"spend\"]\n",
    "\n",
    "rct_ttest = ttest_ind(mens_mail, no_mail, equal_var=False)\n",
    "rct_ttest"
   ]
  },
  {
   "cell_type": "markdown",
   "id": "241796a6-2133-4891-9c44-2821749b8056",
   "metadata": {},
   "source": [
    "# バイアスのあるデータで検証"
   ]
  },
  {
   "cell_type": "markdown",
   "id": "06c2ec65-68ab-472c-b152-da98c980896e",
   "metadata": {},
   "source": [
    "## バイアスのあるデータの準備"
   ]
  },
  {
   "cell_type": "code",
   "execution_count": 7,
   "id": "8bd336df-9073-436b-b36f-feb7734d7118",
   "metadata": {},
   "outputs": [],
   "source": [
    "set.seed(1)\n",
    "\n",
    "# 条件に反応するサンプルの量を半分にする\n",
    "obs_rate_c <- 0.5\n",
    "obs_rate_t <- 0.5\n",
    "\n",
    "# バイアスのあるデータの作成\n",
    "biased_data <- male_df %>%\n",
    "    mutate(\n",
    "        obs_rate_c = if_else(\n",
    "            (history > 300) | (recency < 6) | (channel == \"Multichannel\"),\n",
    "            obs_rate_c,\n",
    "            1\n",
    "        ),\n",
    "        obs_rate_t = if_else(\n",
    "            (history > 300) | (recency < 6) | (channel == \"Multichannel\"),\n",
    "            1,\n",
    "            obs_rate_t\n",
    "        ),\n",
    "        random_number = runif(n = NROW(male_df))\n",
    "    ) %>%\n",
    "    filter(\n",
    "        (treatment == 0 & random_number < obs_rate_c) |\n",
    "        (treatment == 1 & random_number < obs_rate_t)\n",
    "    )"
   ]
  },
  {
   "cell_type": "markdown",
   "id": "5ae615b9-f86a-420f-8efb-b7c9c3ed8380",
   "metadata": {},
   "source": [
    "## バイアスのあるデータの集計と有意差検定"
   ]
  },
  {
   "cell_type": "code",
   "execution_count": 9,
   "id": "b2fc0703-c62f-4814-9690-1f6b22c30eb6",
   "metadata": {},
   "outputs": [
    {
     "data": {
      "text/html": [
       "<table class=\"dataframe\">\n",
       "<caption>A tibble: 2 × 4</caption>\n",
       "<thead>\n",
       "\t<tr><th scope=col>treatment</th><th scope=col>conversion_rate</th><th scope=col>spend_mean</th><th scope=col>count</th></tr>\n",
       "\t<tr><th scope=col>&lt;dbl&gt;</th><th scope=col>&lt;dbl&gt;</th><th scope=col>&lt;dbl&gt;</th><th scope=col>&lt;int&gt;</th></tr>\n",
       "</thead>\n",
       "<tbody>\n",
       "\t<tr><td>0</td><td>0.004977838</td><td>0.5483062</td><td>14665</td></tr>\n",
       "\t<tr><td>1</td><td>0.013431794</td><td>1.5277526</td><td>17198</td></tr>\n",
       "</tbody>\n",
       "</table>\n"
      ],
      "text/latex": [
       "A tibble: 2 × 4\n",
       "\\begin{tabular}{llll}\n",
       " treatment & conversion\\_rate & spend\\_mean & count\\\\\n",
       " <dbl> & <dbl> & <dbl> & <int>\\\\\n",
       "\\hline\n",
       "\t 0 & 0.004977838 & 0.5483062 & 14665\\\\\n",
       "\t 1 & 0.013431794 & 1.5277526 & 17198\\\\\n",
       "\\end{tabular}\n"
      ],
      "text/markdown": [
       "\n",
       "A tibble: 2 × 4\n",
       "\n",
       "| treatment &lt;dbl&gt; | conversion_rate &lt;dbl&gt; | spend_mean &lt;dbl&gt; | count &lt;int&gt; |\n",
       "|---|---|---|---|\n",
       "| 0 | 0.004977838 | 0.5483062 | 14665 |\n",
       "| 1 | 0.013431794 | 1.5277526 | 17198 |\n",
       "\n"
      ],
      "text/plain": [
       "  treatment conversion_rate spend_mean count\n",
       "1 0         0.004977838     0.5483062  14665\n",
       "2 1         0.013431794     1.5277526  17198"
      ]
     },
     "metadata": {},
     "output_type": "display_data"
    }
   ],
   "source": [
    "summary_by_segment_biased <- biased_data %>%\n",
    "    group_by(treatment) %>%\n",
    "    summarise(\n",
    "        conversion_rate = mean(conversion),\n",
    "        spend_mean = mean(spend),\n",
    "        count = n(),\n",
    "        .groups = \"drop\"\n",
    "    )\n",
    "summary_by_segment_biased"
   ]
  },
  {
   "cell_type": "code",
   "execution_count": 10,
   "id": "457770c6-6503-4ef0-ba66-3f9e81f92af6",
   "metadata": {},
   "outputs": [
    {
     "data": {
      "text/plain": [
       "\n",
       "\tWelch Two Sample t-test\n",
       "\n",
       "data:  mens_mail_biased and no_mail_biased\n",
       "t = 5.9164, df = 27557, p-value = 3.33e-09\n",
       "alternative hypothesis: true difference in means is not equal to 0\n",
       "95 percent confidence interval:\n",
       " 0.6549631 1.3039298\n",
       "sample estimates:\n",
       "mean of x mean of y \n",
       "1.5277526 0.5483062 \n"
      ]
     },
     "metadata": {},
     "output_type": "display_data"
    }
   ],
   "source": [
    "# 介入群の購買データ\n",
    "mens_mail_biased <- biased_data %>%\n",
    "    filter(treatment == 1) %>%\n",
    "    pull(spend)\n",
    "\n",
    "# コントロール群の購買データ\n",
    "no_mail_biased <- biased_data %>%\n",
    "    filter(treatment == 0) %>%\n",
    "    pull(spend)\n",
    "\n",
    "# 2群の平均の差についてt検定\n",
    "rct_ttest_biased <- t.test(mens_mail_biased, no_mail_biased, var.equal = F)\n",
    "rct_ttest_biased"
   ]
  },
  {
   "cell_type": "markdown",
   "id": "fbf51898-aa4d-475f-aada-72bb1243fb26",
   "metadata": {},
   "source": [
    "# 回帰分析でバイアスのあるデータの検証"
   ]
  },
  {
   "cell_type": "markdown",
   "id": "89bb2433-8889-4041-b134-e0bc7fa876b3",
   "metadata": {},
   "source": [
    "## バイアスのあるデータで回帰分析"
   ]
  },
  {
   "cell_type": "code",
   "execution_count": null,
   "id": "ed4310bb-7d0b-4d84-80da-503434d31ed7",
   "metadata": {},
   "outputs": [],
   "source": []
  },
  {
   "cell_type": "code",
   "execution_count": 13,
   "id": "461b724c-780c-4ac5-b088-440217602b5e",
   "metadata": {},
   "outputs": [
    {
     "data": {
      "text/html": [
       "<table class=\"dataframe\">\n",
       "<caption>A tibble: 3 × 5</caption>\n",
       "<thead>\n",
       "\t<tr><th scope=col>term</th><th scope=col>estimate</th><th scope=col>std.error</th><th scope=col>statistic</th><th scope=col>p.value</th></tr>\n",
       "\t<tr><th scope=col>&lt;chr&gt;</th><th scope=col>&lt;dbl&gt;</th><th scope=col>&lt;dbl&gt;</th><th scope=col>&lt;dbl&gt;</th><th scope=col>&lt;dbl&gt;</th></tr>\n",
       "</thead>\n",
       "<tbody>\n",
       "\t<tr><td>(Intercept)</td><td>0.324199564</td><td>0.144438990</td><td>2.244543</td><td>2.480430e-02</td></tr>\n",
       "\t<tr><td>treatment  </td><td>0.902610917</td><td>0.174305713</td><td>5.178321</td><td>2.252514e-07</td></tr>\n",
       "\t<tr><td>history    </td><td>0.001092682</td><td>0.000336606</td><td>3.246176</td><td>1.170872e-03</td></tr>\n",
       "</tbody>\n",
       "</table>\n"
      ],
      "text/latex": [
       "A tibble: 3 × 5\n",
       "\\begin{tabular}{lllll}\n",
       " term & estimate & std.error & statistic & p.value\\\\\n",
       " <chr> & <dbl> & <dbl> & <dbl> & <dbl>\\\\\n",
       "\\hline\n",
       "\t (Intercept) & 0.324199564 & 0.144438990 & 2.244543 & 2.480430e-02\\\\\n",
       "\t treatment   & 0.902610917 & 0.174305713 & 5.178321 & 2.252514e-07\\\\\n",
       "\t history     & 0.001092682 & 0.000336606 & 3.246176 & 1.170872e-03\\\\\n",
       "\\end{tabular}\n"
      ],
      "text/markdown": [
       "\n",
       "A tibble: 3 × 5\n",
       "\n",
       "| term &lt;chr&gt; | estimate &lt;dbl&gt; | std.error &lt;dbl&gt; | statistic &lt;dbl&gt; | p.value &lt;dbl&gt; |\n",
       "|---|---|---|---|---|\n",
       "| (Intercept) | 0.324199564 | 0.144438990 | 2.244543 | 2.480430e-02 |\n",
       "| treatment   | 0.902610917 | 0.174305713 | 5.178321 | 2.252514e-07 |\n",
       "| history     | 0.001092682 | 0.000336606 | 3.246176 | 1.170872e-03 |\n",
       "\n"
      ],
      "text/plain": [
       "  term        estimate    std.error   statistic p.value     \n",
       "1 (Intercept) 0.324199564 0.144438990 2.244543  2.480430e-02\n",
       "2 treatment   0.902610917 0.174305713 5.178321  2.252514e-07\n",
       "3 history     0.001092682 0.000336606 3.246176  1.170872e-03"
      ]
     },
     "metadata": {},
     "output_type": "display_data"
    }
   ],
   "source": [
    "biased_reg <- lm(data = biased_data, formula = spend ~ treatment + history)\n",
    "\n",
    "biased_reg_coef <- tidy(biased_reg)\n",
    "biased_reg_coef"
   ]
  },
  {
   "cell_type": "markdown",
   "id": "733c5e06-46d1-4b9b-9b8d-a9f6d3cc75e5",
   "metadata": {},
   "source": [
    "## 効果検証のための回帰分析で行わないこと"
   ]
  },
  {
   "cell_type": "code",
   "execution_count": null,
   "id": "23286b07-9522-4b41-b674-db5d97b13b69",
   "metadata": {},
   "outputs": [],
   "source": []
  }
 ],
 "metadata": {
  "kernelspec": {
   "display_name": "Python 3 (ipykernel)",
   "language": "python",
   "name": "python3"
  },
  "language_info": {
   "codemirror_mode": {
    "name": "ipython",
    "version": 3
   },
   "file_extension": ".py",
   "mimetype": "text/x-python",
   "name": "python",
   "nbconvert_exporter": "python",
   "pygments_lexer": "ipython3",
   "version": "3.10.5"
  },
  "widgets": {
   "application/vnd.jupyter.widget-state+json": {
    "state": {},
    "version_major": 2,
    "version_minor": 0
   }
  }
 },
 "nbformat": 4,
 "nbformat_minor": 5
}
