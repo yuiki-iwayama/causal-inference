{
 "cells": [
  {
   "cell_type": "markdown",
   "id": "24355421-3451-4833-a0c4-836a2e4baf8d",
   "metadata": {},
   "source": [
    "# 脱落変数バイアス（OVB）"
   ]
  },
  {
   "cell_type": "markdown",
   "id": "5df1f963-2b29-49e9-a7db-3260f44a673d",
   "metadata": {},
   "source": [
    "ここでは．共変量を追加することで，推定される効果が変化する仕組みについて確認する．  \n",
    "この仕組みの解釈は「**セレクションバイアスの影響をより小さくするためにどのような共変量をモデルに追加するべきか？**」という疑問に対して，  \n",
    "「**目的変数Yと介入変数Zに対して相関のある変数を加えるべき**」という解決策を与えてくれる．"
   ]
  },
  {
   "cell_type": "markdown",
   "id": "7ce21312-f404-48d8-9e12-930e1c177aa9",
   "metadata": {},
   "source": [
    "ますは２つの回帰分析モデルAとBを考える．  \n",
    "$$\n",
    "    （モデルA）\\; Y_i = \\alpha_0 \\:+ \\alpha_1Z_i \\:+ u_i \\quad(1)　\\\\\n",
    "    （モデルB）\\; Y_i = \\beta_0 \\:+ \\beta_1Z_i \\:+ \\beta_2X_{omit,i} \\:+ e_i \\quad(2)\n",
    "$$\n",
    "\n",
    "ここでは，モデルAが誤ったモデルで，モデルBが正しいモデルである．"
   ]
  },
  {
   "cell_type": "markdown",
   "id": "08679428-c25f-439c-9ab3-e441e3216a99",
   "metadata": {},
   "source": [
    "この２つのモデルの差は共編量 $X_{omit,i}$ が追加されているか否かにあり，  \n",
    "モデルBはセレクションバイアスの影響が取り除かれた結果を得られるとする．  \n",
    "介入変数の効果は介入変数 $Z_i$ にかかるパラメータであるため，それぞれのモデルにて $\\alpha_1 \\; \\beta_1$ で表される．  \n",
    "モデルAはモデルBと比較すると $X_{omit,i}$が省略されている．  \n",
    "なので，モデルAにおける誤差項$u_i$の中には，$\\beta_2X_{omit,i}$ とモデルBにおける誤差項$e_i$が含まれていることになる．\n",
    "\n",
    "$$\n",
    "    u_i = \\beta_2X_{omit,i}+e_i\n",
    "$$"
   ]
  },
  {
   "cell_type": "markdown",
   "id": "e38b4b11-e151-488a-b0ed-6941fa6b3ad8",
   "metadata": {},
   "source": [
    "$\\beta_2$ はモデルBにおいて推定される $X_{omit,i}$ と $Y_i$ の相関に当たるものである．  \n",
    "本来は  $Z_i$ を $X_{omit,i}$ に対して回帰するが仮定するほうが正しいが， $Z_i$ と $X_{omit,i}$ の相関を議論しているので，  \n",
    "$\\gamma_1$ は $X_{omit,i}$ に対して $Z_i$ を回帰させたときに得られる回帰係数を得ても議論して問題ない．  \n",
    "$X_{omit,i}$を含まない式を得たいので， 以下の式のように， $X_{omit,i}$ に対して $Z_i$ を回帰させる式を採択する．\n",
    "\n",
    "$$\n",
    "    X_{omit,i} = \\gamma_o + \\gamma_1Z_i + \\epsilon_i \\quad(3)\n",
    "$$\n",
    "\n",
    "モデルB　(2)式から $X_{omit,i}$ を消去するため， (2)へ(3)を代入する．\n",
    "\n",
    "$$\n",
    "    Y_i = \\beta_0 + \\beta_1Z_i + \\beta_2(\\gamma_0 + \\gamma_1Z_i + \\epsilon_i) \\quad(4) \\\\\n",
    "    \\Leftrightarrow Y_i = \\beta_0 + \\beta_2\\gamma_0 + (\\beta_1 + \\gamma_1\\beta_2)Z_i + \\epsilon_i \\quad(4')\n",
    "$$"
   ]
  },
  {
   "cell_type": "markdown",
   "id": "4edf33b1-6e2a-4364-871c-e4a230cb0b9e",
   "metadata": {},
   "source": [
    "モデルBはセレクションバイアスの影響がより小さい分析結果を得られるため，  \n",
    "$X_{omit,i}$ は分析において必要な共変量だということになる．  \n",
    "この $X_{omit,i}$ のような本来必要だがモデルから抜け落ちている変数を**脱落変数**と呼ぶ．  "
   ]
  },
  {
   "cell_type": "markdown",
   "id": "cd41f6d5-488e-49a5-adf3-7008e799094b",
   "metadata": {},
   "source": [
    "このとき $X_{omit,i}$ を無視したモデルAにおいて介入効果を示すパラメータ$\\alpha_1$は(4')を見ると，  \n",
    "\n",
    "$$\n",
    "    \\alpha_1 = \\beta_1 + \\gamma_1\\beta_2\n",
    "$$\n",
    "\n",
    "となることがわかる．"
   ]
  },
  {
   "cell_type": "markdown",
   "id": "5a8eea76-6c2b-45ad-a974-3dbbcfe09065",
   "metadata": {},
   "source": [
    "$\\beta_1$ はモデルBにて推定される効果を示しており，  \n",
    "セレクションバイアスがうまく取り除かれた結果である．  \n",
    "このことから $\\alpha_1$ は，モデルBにて推定される効果 $\\beta_1$ に，  \n",
    "何かしらの値をとる $\\gamma_1\\beta_2$を加えたものであることがわかる．"
   ]
  },
  {
   "cell_type": "markdown",
   "id": "25546bf0-b93e-42d9-991c-f362d04bd9da",
   "metadata": {},
   "source": [
    "この $\\gamma_1\\beta_2$ は**脱落変数バイアス**（Omitted Variable Bias：OVB）と呼ばれる．  \n",
    "モデルAを使って効果の分析を行った場合，得られる効果の推定結果は本来の効果にOVBを加えたものになってしまう．  \n",
    "しかし， $X_{omit,i}$ を加えたモデルBの場合，効果の推定結果からはOVBが取り除かれ正しい効果が推定されることになる．  \n",
    "モデルAとモデルBの比較は，必要な共変量がモデルに含まれない場合には推定される効果にはOVBが含まれていることを示すとともに，  \n",
    "一方ではそのような変数をモデルに加えることでOVBの影響を取り除くことが可能であるという回帰分析の仕組みを説明している．"
   ]
  },
  {
   "cell_type": "markdown",
   "id": "0a7678fb-665e-4841-8444-60bb58c3aa19",
   "metadata": {},
   "source": [
    "**図解**\n",
    "![回帰分析におけるバイアス_1](images/回帰分析におけるバイアス_1.png)"
   ]
  },
  {
   "cell_type": "markdown",
   "id": "aeb26642-4396-41bb-b3a6-7f4d2d206854",
   "metadata": {},
   "source": [
    "つまり，この $\\beta_1$ のほかに余分にあるバイアス $\\gamma_1\\beta_2$ は， $X_{omit}$と $Y$ の相関に，  \n",
    "$Z$ と $X_{omit}$ の相関を掛けたものということになる．  \n",
    "直感的には，省略された共変量 $X_{omit}$ が $Y$ に対して与えるような影響が，  \n",
    "$X_{omit}$ と $Z$ の相関を通して $Z$ の効果として表われているように見えているということになる．"
   ]
  },
  {
   "cell_type": "markdown",
   "id": "f4b5c427-8c28-405d-9122-1c615a858abe",
   "metadata": {},
   "source": [
    "以上のことから，OVBを考えると，興味のあるパラメータ以外の有意差検定の結果を考慮して，  \n",
    "共変量を選択するようなことはむしろ害悪である可能性がある．"
   ]
  },
  {
   "cell_type": "markdown",
   "id": "7fb2f408-914d-41e7-8a3d-ddd0d8a718ce",
   "metadata": {},
   "source": [
    "# RによるOVBの確認"
   ]
  },
  {
   "cell_type": "markdown",
   "id": "64ea3687-e996-4e61-89a3-19450dc901f4",
   "metadata": {},
   "source": [
    "ここでは以下の２つの回帰式におけるOVBの値を確認する．\n",
    "$$\n",
    "    Spend_i = \\alpha_0 + \\alpha_1treatment_i + \\alpha_2recency_i + \\alpha_3channel_i + e_i （モデルA）\n",
    "$$\n",
    "$$\n",
    "    Spend_i = \\beta_0 + \\beta_1treatment_i + \\beta_2recency_i + \\beta_3channel_i + \\beta_4history_i + u_i （モデルB）\n",
    "$$"
   ]
  },
  {
   "cell_type": "markdown",
   "id": "fba45382-104f-44e2-adfc-338c016c44ec",
   "metadata": {},
   "source": [
    "AとBの差はhistoryという共変量がモデルに含まれているか否かにある．  \n",
    "historyは過去の購入額を表す変数なので，売上に対して強い相関を持つ．  \n",
    "今回利用するbiased_dataは作成する際にhistoryが300以上の場合には介入が起こりやすくなるようにデータを加工している．  \n",
    "このことから，historyをモデルから外すことで，脱落変数バイアスが発生するようになっていることがわかる．"
   ]
  },
  {
   "cell_type": "markdown",
   "id": "823fc796-5281-454e-9797-93e03bf56ed6",
   "metadata": {},
   "source": [
    "OVBの式に従うと値は以下のようになるはずである．\n",
    "$$\n",
    "    \\alpha_1 - \\beta_1 = \\gamma_1\\beta_4\n",
    "$$\n",
    "\n",
    "$\\gamma_1$ は以下の回帰式によって推定された値である．\n",
    "\n",
    "$$\n",
    "    history_i = \\gamma_0 + \\gamma_1treatment_i + \\gamma_2recency_i + \\gamma_3channel_i + \\epsilon_i （モデルC）\n",
    "$$\n",
    "\n",
    "この回帰式はモデルAで脱落している変数 $history_i$ に対して，  \n",
    "モデルAに含まれている変数を使って回帰分析を行ったものである．"
   ]
  },
  {
   "cell_type": "markdown",
   "id": "a530e382-fc32-4536-8746-9d4f95e24ce9",
   "metadata": {},
   "source": [
    "**Rコード**\n",
    "\n",
    "```R\n",
    "# broomの読み出し\n",
    "libray(broom)\n",
    "\n",
    "# モデル式のベクトルを用意\n",
    "formula_vec <- c(\n",
    "    spend ~ treatment + recency + channel, #モデルA\n",
    "    spend ~ treatment + recency + channel + history, #モデルB\n",
    "    history ~ treatment + channel + recency, #モデルC\n",
    ")\n",
    "\n",
    "# formulaに名前を付ける\n",
    "names(formula_vec) <- paste(\"reg\", LETTERS[1:3], sep = \"_\")\n",
    "\n",
    "# モデル式のデータフレーム化\n",
    "models <- formula_vec %>%\n",
    "    enframe(name = \"model_index\", value = \"formula\")\n",
    "\n",
    "# まとめて回帰分析を実行\n",
    "df_models <- models %>%\n",
    "    mutate(model = map(.x = formula, .f = lm, data = biased_data)) %>%\n",
    "    mutate(lm_result = map(.x = model, .f = tidy))\n",
    "\n",
    "# モデルの結果を整形\n",
    "df_results <- df_models %>%\n",
    "    mutate(formula = as.character(formula)) %>%\n",
    "    select(formula, model_index, lm_result) %>%\n",
    "    unnset(cols = c(lm_result))\n",
    "\n",
    "# モデルA,B，Cでのtreatmentのパラメータ（回帰係数）を抜き出す\n",
    "treatment_coef <- df_results %>%\n",
    "    filter(term == \"treatment\") %>%\n",
    "    pull(estimate)\n",
    "\n",
    "# モデルBからhistoryのパラメータ（回帰係数）を抜き出す\n",
    "history_coef <- df_results %>%\n",
    "    filter(\n",
    "        model_index == \"reg_B\",\n",
    "        term == \"history\"\n",
    "    ) %>%\n",
    "    pull(estimate)\n",
    "\n",
    "# OVBの確認\n",
    "OVB <- history_coef * treatment_coef[3]\n",
    "coef_gap <- treatment_coef[1] - treatment_coef[2]\n",
    "\n",
    "OVB #beta_2 * gamma_1\n",
    "coef_gap #alpha_1 - beta_1\n",
    "```"
   ]
  },
  {
   "cell_type": "markdown",
   "id": "52fbb957-f0ff-4693-81bd-7d8ac5767c0f",
   "metadata": {},
   "source": [
    "**Pythonコード**"
   ]
  },
  {
   "cell_type": "code",
   "execution_count": 1,
   "id": "a011b12b-f6b0-45ad-810a-32f5ffb8c6f4",
   "metadata": {},
   "outputs": [],
   "source": [
    "# ライブラリーimport\n",
    "import numpy as np\n",
    "import pandas as pd\n",
    "from scipy.stats import uniform\n",
    "import statsmodels.formula.api as smf"
   ]
  },
  {
   "cell_type": "code",
   "execution_count": 2,
   "id": "a3146318-e246-4146-b1c4-c90e6d09bbdf",
   "metadata": {},
   "outputs": [],
   "source": [
    "# データセット作成\n",
    "df_email = pd.read_csv(\"http://www.minethatdata.com/Kevin_Hillstrom_MineThatData_E-MailAnalytics_DataMiningChallenge_2008.03.20.csv\")\n",
    "\n",
    "df_male = df_email.query(\"segment != 'Womens E-Mail'\").copy()\n",
    "df_male[\"treatment\"] = np.where(df_male[\"segment\"] == \"Mens E-Mail\", 1, 0)\n",
    "\n",
    "obs_rate_c = 0.5\n",
    "obs_rate_t = 0.5\n",
    "\n",
    "df_biased_email = (df_male\n",
    "                   .assign(\n",
    "                       obs_rate_c=np.where(\n",
    "                           (df_male[\"history\"] > 300) | (df_male[\"recency\"] < 6) | (df_male[\"channel\"] == \"Multichannel\"),\n",
    "                           obs_rate_c,\n",
    "                           1\n",
    "                       )\n",
    "                   )\n",
    "                   .assign(\n",
    "                       obs_rate_t=np.where(\n",
    "                           (df_male[\"history\"] > 300) | (df_male[\"recency\"] < 6) | (df_male[\"channel\"] == \"Multichannel\"),\n",
    "                           obs_rate_t,\n",
    "                           1\n",
    "                       )\n",
    "                   )\n",
    "                   .assign(random_number=uniform.rvs(size=len(df_male), random_state=46))\n",
    "                   .query(\"(treatment == 0 & random_number < obs_rate_c) | (treatment == 1 & random_number < obs_rate_t)\")\n",
    ")"
   ]
  },
  {
   "cell_type": "code",
   "execution_count": 3,
   "id": "8131fef4-d85c-4b43-a018-775412a19455",
   "metadata": {},
   "outputs": [],
   "source": [
    "# モデルのformulaを用意\n",
    "model_list = [\n",
    "    \"spend ~ treatment + recency + channel\", #モデルA\n",
    "    \"spend ~ treatment + recency + channel + history\", #モデルB\n",
    "    \"history ~ treatment + channel + recency\", #モデルC\n",
    "]\n",
    "# 辞書内包表記でformulaに名前を付ける\n",
    "model_dict = {f\"reg_{idx}\": formula for idx, formula in enumerate(model_list)}\n",
    "\n",
    "# OLSでfitさせた結果をDataFrameに格納\n",
    "df_model = pd.DataFrame(\n",
    "    data=[smf.ols(formula=formula, data=df_biased_email).fit() for formula in model_dict.values()],\n",
    "    index=[reg for reg in model_dict.keys()]\n",
    ").T"
   ]
  },
  {
   "cell_type": "code",
   "execution_count": 4,
   "id": "4471ed4c-c866-464c-8992-a1178cde4896",
   "metadata": {},
   "outputs": [],
   "source": [
    "# モデルA,B，Cでのtreatmentのパラメータ（回帰係数）を抜き出す\n",
    "treatment_coef = [df_model[column][0].params[\"treatment\"] for column in df_model.columns]\n",
    "\n",
    "# モデルBからhistoryのパラメータ（回帰係数）を抜き出す\n",
    "history_coef = df_model[\"reg_1\"][0].params[\"history\"]"
   ]
  },
  {
   "cell_type": "code",
   "execution_count": 5,
   "id": "ab86ef4a-2e17-4d7f-9134-e000a208a773",
   "metadata": {},
   "outputs": [
    {
     "name": "stdout",
     "output_type": "stream",
     "text": [
      "0.0015424165543142167\n",
      "0.0015424165543151958\n"
     ]
    }
   ],
   "source": [
    "# OVBの確認\n",
    "OVB = history_coef * treatment_coef[2]\n",
    "coef_gap = treatment_coef[0] - treatment_coef[1]\n",
    "\n",
    "print(OVB)\n",
    "print(coef_gap)"
   ]
  },
  {
   "cell_type": "markdown",
   "id": "7f5902b2-0036-4763-829e-a962125cea6f",
   "metadata": {},
   "source": [
    "これにより，実際に共変量を追加したモデルとしなかったモデルにおいて，  \n",
    "推定される効果の差がOVBの式の結果と一致することがわかった．  \n",
    "つまり，共変量を追加することで推定される効果の値に変化が生じるのは，  \n",
    "共変量を追加したことによってOVBが消失したことに由来していることがわかる．"
   ]
  },
  {
   "cell_type": "markdown",
   "id": "a10bbf4b-70f5-4bb7-97e2-2b6b7da3c759",
   "metadata": {},
   "source": [
    "# OVBが与えてくれる情報"
   ]
  },
  {
   "cell_type": "markdown",
   "id": "21f0d5be-bd87-4a2b-a9b9-eca65d351f9a",
   "metadata": {},
   "source": [
    "$$\n",
    "    \\alpha_1 = \\beta_1 + \\gamma_1\\beta_2\n",
    "$$\n",
    "$$\n",
    "    X_{omit,i} = \\gamma_1Z_i + \\epsilon_i\n",
    "$$\n",
    "\n",
    "上式のようなOVBの式は，共変量が不十分なモデルの持つバイアス構造を表す．  \n",
    "そしてその構造とは，バイアスの値は「脱落変数 $X_{omit}$ と $Z$ の関係」と，  \n",
    "「脱落変数 $X_{omit}$ と目的変数 $Y$の関係」の掛け合わせになることを示していた．"
   ]
  },
  {
   "cell_type": "markdown",
   "id": "4b913a91-75f4-436b-b5ca-c63a2322e7a6",
   "metadata": {},
   "source": [
    "これは，介入変数 $Z$ の決定に何らかの関連を持っていて，さらに目的変数 $Y$ との相関にあるような変数を，  \n",
    "新たにモデルに含めるとバイアスを低減できるという重要な情報を与えてくれます．  \n",
    "このような $Z$, $Y$ の両方に関係あるような変数のことを**交絡因子**と呼ぶ．"
   ]
  },
  {
   "cell_type": "markdown",
   "id": "59291b3a-fe61-4fc3-b10b-4dac9f36f359",
   "metadata": {},
   "source": [
    "目的変数との相関が0ではない変数は，しばしば回帰モデルにおいて含まれるべき重要な存在とされることがある．  \n",
    "これは $Y$ を予測することを目的にするのであれば正しい判断であるが，  \n",
    "その変数と $Z$ との相関が0であるような場合にはOVBの値は0になるために，  \n",
    "その変数をモデルに加えても，効果の推定値は変化しないということになる．  \n",
    "また，このときにどちらかが0でなくとも非常に小さい値を保つ場合には，  \n",
    "結果的には発生するバイアスは無視できるほどに小さくなる場合がある．  \n",
    "よって， $Y$ と $Z$ どちらに対してもある程度相関があるような変数を加えることがよりバイアスを少ない効果推定を行う鍵である．"
   ]
  },
  {
   "cell_type": "markdown",
   "id": "2b3a7ee7-8148-4dd8-ad03-77306555993f",
   "metadata": {},
   "source": [
    "OVBの値が小さい，つまり $\\beta_4$ および　$\\gamma_1$ が小さいという状態は，  \n",
    "その変数がもともと $Y$ および $Z$ と関係が薄い変数である場合もあるが，  \n",
    "すでにモデルに含まれている変数の影響によって小さくなっているというケースもある．  \n",
    "新たに追加しようとしてる変数と相関の強い変数をあらかじめ共変量としてモデルに加えている場合にはOVBの値は小さくなっており，  \n",
    "その変数を加えても推定される効果は大きく変化しないことになる．  \n",
    "これは $Z$ の割り振りに関係するであろうすべての変数を共変量としてモデルに加えなくともバイアスが十分に小さくなる可能性があることを示す．"
   ]
  },
  {
   "cell_type": "markdown",
   "id": "d5b36d00-5aee-4126-b9a4-0ec7d98f8cdd",
   "metadata": {},
   "source": [
    "またバイアスを発生させるような変数 $X_{omit}$ がデータとして手に入らない場合にも，  \n",
    "その変数と $Y$ と $Z$ との関係がそれぞれ正になるか負になるかを考えることで，  \n",
    "今得られている効果の推定結果が過小に評価されているか過大に評価されているかを想定できる．"
   ]
  },
  {
   "cell_type": "markdown",
   "id": "04a5007c-1dda-40ff-a429-9812d4a1a3f3",
   "metadata": {},
   "source": [
    "# Conditional Independence Assumption"
   ]
  },
  {
   "cell_type": "markdown",
   "id": "2b17aabc-535f-4605-9f0d-c32fc65e771f",
   "metadata": {},
   "source": [
    "効果検証のための回帰分析における共変量の選択は，理想的にはモデルに含まれていない変数によるOVBがすべて0になる状態を目指す．  \n",
    "これはモデルに含めた共変量で条件付けた時に，介入変数が $Y^{(1)}$ や $Y^{(0)}$ とは独立している状況になり，  \n",
    "**CIA (Conditional Independence Assumption)** と呼ばれる．  \n",
    "より直感的な解釈としては，共変量の値が同一のサンプルにおいて，  \n",
    "介入 $Z$ はランダムに割り振られているのに等しい状態というものである．"
   ]
  },
  {
   "cell_type": "markdown",
   "id": "9a20d298-2dda-4cf7-b587-014a8f9db6b3",
   "metadata": {},
   "source": [
    "**具体例**\n",
    "\n",
    "![回帰分析におけるバイアス_2](images/回帰分析におけるバイアス_2.png)"
   ]
  },
  {
   "cell_type": "markdown",
   "id": "bce157b7-16e8-4050-bc4d-7ac4da6efb30",
   "metadata": {},
   "source": [
    "CIAは以下のような式で表される．\n",
    "\n",
    "$$\n",
    "    \\{Y_i^{(1)}, Y_i^{(0)}\\} \\perp Z_i|X_i\n",
    "$$\n",
    "\n",
    "回帰分析を行った結果として得た介入の効果を正しいと考える場合，  \n",
    "そのモデルに投入した共変量は上記の仮定を満たすと想定することになる．  \n",
    "つまり，回帰分析で推定した効果の値が本当に正しいのかを考える場合，  \n",
    "CIAが満たされているか否かを考える必要がある．"
   ]
  },
  {
   "cell_type": "markdown",
   "id": "3ee839ba-a3ad-4aee-9987-e40de2e5f8f2",
   "metadata": {},
   "source": [
    "# 変数の選び方とモデルの評価"
   ]
  },
  {
   "cell_type": "markdown",
   "id": "d7f59ca8-8c63-4228-b08a-92e317e40c5b",
   "metadata": {},
   "source": [
    "## 共変量の選択とCIA"
   ]
  },
  {
   "cell_type": "markdown",
   "id": "e9dc6629-3aef-44e5-b0f0-7f48e647a268",
   "metadata": {},
   "source": [
    "回帰分析において，分析者は以下のようなステップでモデルをつくることになる．  \n",
    "\n",
    "----\n",
    "> \n",
    "1. 介入の割り当てがどのようにして決定されるかを考える（e.g. 去年の購買が多い人にメールを送りそう，最近購入したばかりの人にメールを送りそう，etc...）\n",
    "2. 想定される決定方法を表現できるような共変量を選択する（e.g. 昨年の購買量，直近の購買など）\n",
    "3. 選択した共変量とYとの関係性を考慮してそれぞれの関数を決める\n",
    "\n",
    "このとき，推定された効果の妥当性を主張するためには，  \n",
    "作ったモデルの共変量がCIAを満たしていると考える必要がある．  \n",
    "しかし，これを主張する上で2個問題がある．"
   ]
  },
  {
   "cell_type": "markdown",
   "id": "3afeb2f0-a5b2-4076-bf68-30ead2610e97",
   "metadata": {},
   "source": [
    "## バイアスが評価できないという問題"
   ]
  },
  {
   "cell_type": "markdown",
   "id": "ec04eb6b-6aa6-4725-90d1-f558b891c01b",
   "metadata": {},
   "source": [
    "得られた効果の推定値がどの程度バイアスを持っているかを評価する方法がないという問題がある．  \n",
    "評価が可能な場合には，共変量の組み合わせを試しつつバイアスの値を評価し，  \n",
    "それがより小さくなるような組み合わせを最終モデルとしたくなる．  \n",
    "しかし，実際には評価ができないために，このようなプロセスは実行できない．  \n",
    "OVBはモデル間のバイアスの変化を示すようなものであるため，  \n",
    "残りのバイアスの大きさを示してくれるわけではない．  \n",
    "以上のような事情から，基本的に分析者はセレクションバイアスがどのような理由によって発生し，  \n",
    "それがどのような変数を含めることでコントロールが可能であり，  \n",
    "どのような変数の組み合わせを用いることでCIAが満たされるのかを仮定する必要がある．"
   ]
  },
  {
   "cell_type": "markdown",
   "id": "9917a3c6-08dd-41b1-ad9c-6e1c1a2bbc84",
   "metadata": {},
   "source": [
    "## 必要な共変量がデータにはないという問題"
   ]
  },
  {
   "cell_type": "markdown",
   "id": "dbe21c6f-19db-4640-95ed-7c017231faa3",
   "metadata": {},
   "source": [
    "もう一つが，手持ちのデータに含まれる変数だけではなバイアスが十分に減らせない可能性があるという問題である．  \n",
    "仮に推定結果のバイアスの値が評価できるとすると，データの中でも最もバイアスを減らし得る最適な共変量を選ぶことができる．  \n",
    "しかしその場合においても，バイアスを完全になくすことはできない可能性がある．\n",
    "\n",
    "e.g.\n",
    "ある要因がバイアスを生むことを理解していても，それを表現するようなデータが定義できない場合や，定義できてもそのデータを入手できない場合があげられる．  \n",
    "\n",
    "このとき，得られている効果の推定値がセレクションバイアスの影響を受けていることはわかっても，  \n",
    "それらの変数をモデルに取り込んでバイアスを減らすことはできないことになる．  \n",
    "手持ちのデータに必要な共変量が存在しない場合，基本的には回帰分析ではセレクションバイアスの影響を取り除いて効果を推定することは不可能ということである．  \n",
    "この場合の回帰分析における推定結果は，得られた効果について投入した共編量については影響を取り除けているものの，データに存在しない変数によるOVBの影響を受けていることになる．"
   ]
  },
  {
   "cell_type": "markdown",
   "id": "c8d00385-e1bd-4a45-98c4-f40f36fdc10d",
   "metadata": {},
   "source": [
    "脱落している変数に関するドメイン知識がある場合には，OVBの大きさについて推察することも可能である．  \n",
    "しかし，これは主観を含む方法であり，分析者の気分や願望を含む結果を得ることが多くなる．  \n",
    "この2つの問題点は何かしらの明確な指標を見ながらモデルの選択ができず，モデルの限界についても定量的に評価ができないことを意味する．  \n",
    "よって，これらの点に関しては分析者が手持ちのデータにはどのようなバイアスが存在しているのか，  \n",
    "そして選択している共変量はどのようなバイアスをコントロールするのかという点についてよく認識して判断する必要がある．"
   ]
  },
  {
   "cell_type": "markdown",
   "id": "475f4b5d-60d9-4396-83cb-32ba88b0d8ec",
   "metadata": {},
   "source": [
    "## Sensitivity Analysis"
   ]
  },
  {
   "cell_type": "markdown",
   "id": "58e458d2-ef04-4d4f-8981-d1b3d3c52113",
   "metadata": {},
   "source": [
    "手持ちのデータには含まれない変数がセレクションバイアスを起こしているかを評価するための**Sensitivity Analysis**と呼ばれる方法がある．  \n",
    "Sensitivity Analysisは，重要だと分析者が認識している共変量以外の共変量をモデルから抜くことで，  \n",
    "効果の推定値が大きく変動しないかを確認するという分析である．  \n",
    "変動が小さい場合には回帰分析の結果がほかの変数による影響を受けにくいことを示しており，  \n",
    "仮にデータセットに含まれていないような変数を含めたとしても大きく変化しないことを示唆する．"
   ]
  },
  {
   "cell_type": "markdown",
   "id": "962f3d07-5870-4a05-b093-2e4b54bef5f5",
   "metadata": {},
   "source": [
    "## Post treatment bias"
   ]
  },
  {
   "cell_type": "markdown",
   "id": "21269259-bd34-4df3-8f6e-f10c6a292748",
   "metadata": {},
   "source": [
    "セレクションバイアスが減る可能性があるからといって，OVBの値が0でない変数を何でもモデルに入れて良いというわけではない．  \n",
    "介入の影響を受けるような変数をモデルに含めた場合，回帰分析の結果が歪んでしまうことがある．  "
   ]
  },
  {
   "cell_type": "markdown",
   "id": "d6082297-c2d6-42f2-bc36-f0678cb82219",
   "metadata": {},
   "source": [
    "介入の影響を受ける変数として，メールマーケティングにおいてはサイト来訪を示す $visit_i$ がその例として挙げられる．  \n",
    "ユーザはサイトに来訪しなければ購買ができないため，サイトの来訪 $X$ と購買 $Y$ は相関があることがわかる．  \n",
    "そして，メールの配信はサイトの来訪を喚起させるため， $Z$ との相関があることがわかる．  \n",
    "実際にtreatmentに対してvisitと共変量を用いて回帰を行ってみる．"
   ]
  },
  {
   "cell_type": "markdown",
   "id": "4d52e09e-bc7d-4ae1-a39e-acc27aeaf699",
   "metadata": {},
   "source": [
    "**Rコード**\n",
    "\n",
    "```R\n",
    "# 入れてはいけない変数を入れてみる\n",
    "cor_visit_treatment <- lm(\n",
    "    data = biased_data,\n",
    "    formula = treatment ~ visit + channel + recency + history\n",
    ") %>%\n",
    "tidy()\n",
    "```"
   ]
  },
  {
   "cell_type": "code",
   "execution_count": 7,
   "id": "3db03b14-b642-47eb-bc13-2771cc2d9161",
   "metadata": {},
   "outputs": [
    {
     "name": "stdout",
     "output_type": "stream",
     "text": [
      "                            OLS Regression Results                            \n",
      "==============================================================================\n",
      "Dep. Variable:              treatment   R-squared:                       0.013\n",
      "Model:                            OLS   Adj. R-squared:                  0.013\n",
      "Method:                 Least Squares   F-statistic:                     76.64\n",
      "Date:                Wed, 21 Sep 2022   Prob (F-statistic):           4.17e-80\n",
      "Time:                        02:05:22   Log-Likelihood:                -21304.\n",
      "No. Observations:               29616   AIC:                         4.262e+04\n",
      "Df Residuals:                   29610   BIC:                         4.267e+04\n",
      "Df Model:                           5                                         \n",
      "Covariance Type:            nonrobust                                         \n",
      "====================================================================================\n",
      "                       coef    std err          t      P>|t|      [0.025      0.975]\n",
      "------------------------------------------------------------------------------------\n",
      "Intercept            0.4701      0.014     34.398      0.000       0.443       0.497\n",
      "channel[T.Phone]     0.0010      0.012      0.089      0.929      -0.022       0.024\n",
      "channel[T.Web]      -0.0024      0.012     -0.208      0.835      -0.025       0.020\n",
      "visit                0.1656      0.008     19.561      0.000       0.149       0.182\n",
      "recency              0.0017      0.001      1.903      0.057   -5.04e-05       0.003\n",
      "history          -6.135e-06   1.42e-05     -0.432      0.666    -3.4e-05    2.17e-05\n",
      "==============================================================================\n",
      "Omnibus:                   104149.457   Durbin-Watson:                   2.002\n",
      "Prob(Omnibus):                  0.000   Jarque-Bera (JB):             4695.098\n",
      "Skew:                          -0.002   Prob(JB):                         0.00\n",
      "Kurtosis:                       1.049   Cond. No.                     2.16e+03\n",
      "==============================================================================\n",
      "\n",
      "Notes:\n",
      "[1] Standard Errors assume that the covariance matrix of the errors is correctly specified.\n",
      "[2] The condition number is large, 2.16e+03. This might indicate that there are\n",
      "strong multicollinearity or other numerical problems.\n"
     ]
    }
   ],
   "source": [
    "cor_visit_treatment = smf.ols(\n",
    "    formula=\"treatment ~ visit + channel + recency + history\",\n",
    "    data=df_biased_email\n",
    ").fit()\n",
    "print(cor_visit_treatment.summary())"
   ]
  },
  {
   "cell_type": "markdown",
   "id": "f8acbae1-8422-42f2-b941-b8146a906210",
   "metadata": {},
   "source": [
    "共変量の影響を取り除いた状態での相関が0.1656という値が有意な結果として得られる．  \n",
    "これらのことからOVBの値は大きくなると考えられるので，回帰モデルに $visit_i$ を追加したくなる．  \n",
    "実際にサイト来訪を回帰モデルに入れてみる．"
   ]
  },
  {
   "cell_type": "markdown",
   "id": "9fcdff7c-fe7a-473a-ad77-babcd70e1c7b",
   "metadata": {},
   "source": [
    "**Rコード**\n",
    "```R\n",
    "# visitを入れた回帰分析を実行\n",
    "bad_control_reg <- lm(\n",
    "    data = biased_data,\n",
    "    formula = spend ~ treatment + channel + recency + history + visit\n",
    ") %>% tidy()\n",
    "```"
   ]
  },
  {
   "cell_type": "code",
   "execution_count": 8,
   "id": "dbf528cc-482f-4830-bb4a-08da7bef390e",
   "metadata": {},
   "outputs": [
    {
     "name": "stdout",
     "output_type": "stream",
     "text": [
      "                            OLS Regression Results                            \n",
      "==============================================================================\n",
      "Dep. Variable:                  spend   R-squared:                       0.030\n",
      "Model:                            OLS   Adj. R-squared:                  0.030\n",
      "Method:                 Least Squares   F-statistic:                     151.8\n",
      "Date:                Sun, 25 Sep 2022   Prob (F-statistic):          1.79e-190\n",
      "Time:                        02:06:42   Log-Likelihood:            -1.2173e+05\n",
      "No. Observations:               29616   AIC:                         2.435e+05\n",
      "Df Residuals:                   29609   BIC:                         2.435e+05\n",
      "Df Model:                           6                                         \n",
      "Covariance Type:            nonrobust                                         \n",
      "====================================================================================\n",
      "                       coef    std err          t      P>|t|      [0.025      0.975]\n",
      "------------------------------------------------------------------------------------\n",
      "Intercept           -0.6590      0.414     -1.593      0.111      -1.470       0.152\n",
      "channel[T.Phone]     0.4120      0.347      1.188      0.235      -0.268       1.092\n",
      "channel[T.Web]       0.4103      0.346      1.186      0.236      -0.268       1.089\n",
      "treatment            0.2756      0.173      1.598      0.110      -0.063       0.614\n",
      "recency             -0.0037      0.026     -0.142      0.887      -0.056       0.048\n",
      "history              0.0009      0.000      2.092      0.036    5.57e-05       0.002\n",
      "visit                7.4254      0.253     29.359      0.000       6.930       7.921\n",
      "==============================================================================\n",
      "Omnibus:                    65492.843   Durbin-Watson:                   1.992\n",
      "Prob(Omnibus):                  0.000   Jarque-Bera (JB):        334917465.638\n",
      "Skew:                          20.666   Prob(JB):                         0.00\n",
      "Kurtosis:                     522.326   Cond. No.                     2.17e+03\n",
      "==============================================================================\n",
      "\n",
      "Notes:\n",
      "[1] Standard Errors assume that the covariance matrix of the errors is correctly specified.\n",
      "[2] The condition number is large, 2.17e+03. This might indicate that there are\n",
      "strong multicollinearity or other numerical problems.\n"
     ]
    }
   ],
   "source": [
    "bad_control_reg = smf.ols(\n",
    "    formula=\"spend ~ treatment + channel + recency + history + visit\",\n",
    "    data=df_biased_email\n",
    ").fit()\n",
    "print(bad_control_reg.summary())"
   ]
  },
  {
   "cell_type": "markdown",
   "id": "49930555-60d1-472c-8677-e3fbcf8a7e11",
   "metadata": {},
   "source": [
    "サイト来訪をモデルに入れた結果，メール配信の効果はvisitを含まないモデルの結果である0.848から0.276へと大きく低下し，実験の結果と大きく乖離してしまった．  \n",
    "一体なぜこのような変化が起きてしまうのか？\n",
    "\n",
    "ポイントは，メールの配信がもともとの購買傾向が弱いユーザのサイト来訪を増やしていることにある．  \n",
    "メールを配信されたグループは，少なくともサイトへ来訪するような購買傾向の強いユーザと，メールがあるからサイトへ来訪するような購買傾向の弱いユーザになる．  \n",
    "一方でメールが配信されなかったグループは，もともとの購買傾向が強いユーザのみがサイトへ来訪していることになる．  \n",
    "よって，サイトへ来訪したユーザ間で比較を行うと，メールが配信されなかったグループの方が売上の平均が高いという結果になってしまう．"
   ]
  },
  {
   "cell_type": "markdown",
   "id": "5328cc64-cd9a-417e-94bc-7f3252e3c464",
   "metadata": {},
   "source": [
    "このように，介入によって影響を受けた変数を分析に入れることによって起きるバイスのことを**Post Treatment Bias**と呼ぶ．  \n",
    "Post Treatment Biasはもともとの介入自体がどのような方法で割り当てられていたとしても発生してしまう問題である．  \n",
    "この問題を避けるためには，介入よりもあとのタイミングで値が決まるような変数は分析から除外する必要がある．  \n",
    "介入が割り振られる前に値が決まっている場合には介入の影響を受けることはまずないので，このような問題に直面することがなくなる．  \n",
    "しかし，どのような変数がこれに該当するのかという判断自体は，分析者の知識に依存する．"
   ]
  },
  {
   "cell_type": "markdown",
   "id": "da4e54db-0f52-4a13-b3b8-1496f4aad00d",
   "metadata": {},
   "source": [
    "Post Treatment Biasのような問題は，変数の選択以外にも存在する．  \n",
    "実際のビジネスでは，サービスを利用したユーザのログデータしか残されていないことがよくある．  \n",
    "例えばどのユーザが実際に広告を目にしたか定かではないものの，広告をクリックしてサービスに流入したユーザに関してはログが残っている状況である．  \n",
    "このような場合に，サービスへのアクセスを誘発するような広告施策を行うと，広告配信グループには購買意向や利用意向の少ないユーザが多くなり，  \n",
    "一方で広告を配信しなかったグループはもともとの購買意向が強いユーザといった状態になってしまう．"
   ]
  },
  {
   "cell_type": "markdown",
   "id": "f772c5ec-463f-428a-ae01-1c0682799075",
   "metadata": {},
   "source": [
    "例がわかりにくいので，数式で考える．  \n",
    "$$\n",
    "    Spend_i = \\alpha_0 + \\alpha_1treatment_i + \\alpha_2history_i + e_i （モデルA）\n",
    "$$\n",
    "$$\n",
    "    Spend_i = \\beta_0 + \\beta_1treatment_i + \\beta_2history_i + \\beta3visit_i + u_i （モデルB）\n",
    "$$"
   ]
  },
  {
   "cell_type": "markdown",
   "id": "5ee75f38-97fe-4674-81dc-7359cb355702",
   "metadata": {},
   "source": [
    "ここではモデルAが正しいモデルで，モデルBが誤りのモデルである．  \n",
    "Spendをvisitに回帰させると $treatment_i = \\gamma_0 + \\gamma_1Spend_i + v_i$となり，  \n",
    "これをモデルBに代入して， $visit_i$を消すと，  \n",
    "$$\n",
    "    Spend_i = \\beta_0 + \\beta_1treatment_i + \\beta_2history_i + \\beta_3(\\gamma_0 + \\gamma_1treatment_i + v_i) + u_i \\\\\n",
    "    \\Leftrightarrow Spend_i = (\\beta_0 + \\gamma_0\\beta_3) + (\\beta_1 + \\gamma_1\\beta_3)treatment_i + \\beta_2history_i + \\beta_3v_i + u_i (モデルB')\n",
    "$$"
   ]
  },
  {
   "cell_type": "markdown",
   "id": "f7031bcd-eb87-4353-a3c6-9d5bafe6d210",
   "metadata": {},
   "source": [
    "モデルAとモデルB'の係数を比較すると，正しいモデルAにおいて treatment は Spend に $\\alpha_1$ という影響を与えている．（ATEである）  \n",
    "図解においては，OVBは取り除いた上で議論している．"
   ]
  },
  {
   "cell_type": "markdown",
   "id": "822769d6-a50b-4f88-9889-4fd2f4ccb8ac",
   "metadata": {},
   "source": [
    "**図解**\n",
    "\n",
    "![回帰分析におけるバイアス_3](images/回帰分析におけるバイアス_3.png)"
   ]
  },
  {
   "cell_type": "code",
   "execution_count": null,
   "id": "73db4a62-09c7-4e6c-a9f8-ccc4708d89d1",
   "metadata": {},
   "outputs": [],
   "source": []
  }
 ],
 "metadata": {
  "kernelspec": {
   "display_name": "Python 3 (ipykernel)",
   "language": "python",
   "name": "python3"
  },
  "language_info": {
   "codemirror_mode": {
    "name": "ipython",
    "version": 3
   },
   "file_extension": ".py",
   "mimetype": "text/x-python",
   "name": "python",
   "nbconvert_exporter": "python",
   "pygments_lexer": "ipython3",
   "version": "3.10.5"
  },
  "widgets": {
   "application/vnd.jupyter.widget-state+json": {
    "state": {},
    "version_major": 2,
    "version_minor": 0
   }
  }
 },
 "nbformat": 4,
 "nbformat_minor": 5
}
