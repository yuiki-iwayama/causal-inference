{
 "cells": [
  {
   "cell_type": "markdown",
   "id": "24355421-3451-4833-a0c4-836a2e4baf8d",
   "metadata": {},
   "source": [
    "# 脱落変数バイアス（OVB）"
   ]
  },
  {
   "cell_type": "markdown",
   "id": "5df1f963-2b29-49e9-a7db-3260f44a673d",
   "metadata": {},
   "source": [
    "ここでは．共変量を追加することで，推定される効果が変化する仕組みについて確認する．  \n",
    "この仕組みの解釈は「**セレクションバイアスの影響をより小さくするためにどのような共変量をモデルに追加するべきか？**」という疑問に対して，  \n",
    "「**目的変数Yと介入変数Zに対して相関のある変数を加えるべき**」という解決策を与えてくれる．"
   ]
  },
  {
   "cell_type": "markdown",
   "id": "7ce21312-f404-48d8-9e12-930e1c177aa9",
   "metadata": {},
   "source": [
    "ますは２つの回帰分析モデルAとBを考える．  \n",
    "$$\n",
    "    Y_i = \\alpha_0 \\:+ \\alpha_1Z_i \\:+ \\mu_i （モデルA）\n",
    "$$   \n",
    "$$\n",
    "    Y_i = \\beta_0 \\:+ \\beta_1Z_i \\:+ \\beta_2X_{omit,i} \\:+ e_i （モデルB）\n",
    "$$"
   ]
  },
  {
   "cell_type": "markdown",
   "id": "08679428-c25f-439c-9ab3-e441e3216a99",
   "metadata": {},
   "source": [
    "この２つのモデルの差は共編量 $X_{omit,i}$ が追加されているか否かにあり，  \n",
    "モデルBはセレクションバイアスの影響が取り除かれた結果を得られるとする．  \n",
    "介入変数の効果は介入変数 $Z_i$ にかかるパラメータであるため，それぞれのモデルにて $\\alpha_1 \\; \\beta_1$ で表される．  \n",
    "モデルAはモデルBと比較すると $X_{omit,i}$が省略されている．  \n",
    "なので，モデルAにおける誤差項$u_i$の中には，$\\beta_2X_{omit,i}$ とモデルBにおける誤差項$e_i$が含まれていることになる．"
   ]
  },
  {
   "cell_type": "markdown",
   "id": "da8c42b0-125c-49a5-8a89-540f41874556",
   "metadata": {},
   "source": [
    "$$\n",
    "    u_i = \\beta_2X_{omit,i}+e_i\n",
    "$$"
   ]
  },
  {
   "cell_type": "markdown",
   "id": "4edf33b1-6e2a-4364-871c-e4a230cb0b9e",
   "metadata": {},
   "source": [
    "モデルBはセレクションバイアスの影響がより小さい分析結果を得られるため，  \n",
    "$X_{omit,i}$ は分析において必要な共変量だということになる．  \n",
    "この $X_{omit,i}$ のような本来必要だがモデルから抜け落ちている変数を**脱落変数**と呼ぶ．  "
   ]
  },
  {
   "cell_type": "markdown",
   "id": "cd41f6d5-488e-49a5-adf3-7008e799094b",
   "metadata": {},
   "source": [
    "このとき $X_{omit,i}$ を無視したモデルAにおいて介入効果を示すパラメータ$\\alpha_1$は，  \n",
    "$$\n",
    "    \\alpha_1 = \\beta_1 + \\gamma_1\\beta_2\n",
    "$$\n",
    "となることが知られている．"
   ]
  },
  {
   "cell_type": "markdown",
   "id": "5a8eea76-6c2b-45ad-a974-3dbbcfe09065",
   "metadata": {},
   "source": [
    "$\\beta_1$ はモデルBにて推定される効果を示しており，  \n",
    "セレクションバイアスがうまく取り除かれた結果である．  \n",
    "このことから $\\alpha_1$ は，モデルBにて推定される効果 $\\beta_1$ に，  \n",
    "何かしらの値をとる $\\gamma_1\\beta_2$を加えたものであることがわかる．"
   ]
  },
  {
   "cell_type": "markdown",
   "id": "25546bf0-b93e-42d9-991c-f362d04bd9da",
   "metadata": {},
   "source": [
    "この $\\gamma_1\\beta_2$ は**脱落変数バイアス**（Omitted Variable Bias：OVB）と呼ばれる．  \n",
    "モデルAを使って効果の分析を行った場合，得られる効果の推定結果は本来の効果にOVBを加えたものになってしまう．  \n",
    "しかし， $X_{omit,i}$ を加えたモデルBの場合，効果の推定結果からはOVBが取り除かれ正しい効果が推定されることになる．  \n",
    "モデルAとモデルBの比較は，必要な共変量がモデルに含まれない場合には推定される効果にはOVBが含まれていることを示すとともに，  \n",
    "一方ではそのような変数をモデルに加えることでOVBの影響を取り除くことが可能であるという回帰分析の仕組みを説明している．"
   ]
  },
  {
   "cell_type": "markdown",
   "id": "e38b4b11-e151-488a-b0ed-6941fa6b3ad8",
   "metadata": {},
   "source": [
    "$\\beta_2$ はモデルBにおいて推定される $X_{omit,i}$ と $Y_i$ の相関に当たるものである．  \n",
    "$\\gamma_1$ は以下の式のように， $X_{omit,i}$ に対して $Z_i$ を回帰させたときに得られる回帰係数であり，  \n",
    "$Z_i$ と $X_{omit,i}$ の相関と考えることができる．\n",
    "$$\n",
    "    X_{omit,i} = \\gamma_1Z_i + \\epsilon_i\n",
    "$$"
   ]
  },
  {
   "cell_type": "markdown",
   "id": "aeb26642-4396-41bb-b3a6-7f4d2d206854",
   "metadata": {},
   "source": [
    "つまり，この $\\beta_1$ のほかに余分にあるバイアス $\\gamma_1\\beta_2$ は， $X_{omit}$と $Y$ の相関に，  \n",
    "$Z$ と $X_{omit}$ の相関を掛けたものということになる．  \n",
    "直感的には，省略された共編量 $X_{omit}$ が $Y$ に対して与えるような影響が，  \n",
    "$X_{omit}$ と $Z$ の相関を通して $Z$ の効果として表われているように見えているということになる．"
   ]
  },
  {
   "cell_type": "markdown",
   "id": "f4b5c427-8c28-405d-9122-1c615a858abe",
   "metadata": {},
   "source": [
    "以上のことから，OVBを考えると，興味のあるパラメータ以外の有意差検定の結果を考慮して，  \n",
    "共変量を選択するようなことはむしろ害悪がある可能性がある．"
   ]
  },
  {
   "cell_type": "markdown",
   "id": "7fb2f408-914d-41e7-8a3d-ddd0d8a718ce",
   "metadata": {},
   "source": [
    "# RによるOVBの確認"
   ]
  },
  {
   "cell_type": "markdown",
   "id": "64ea3687-e996-4e61-89a3-19450dc901f4",
   "metadata": {},
   "source": [
    "ここでは以下の２つの回帰式におけるOVBの値を確認する．\n",
    "$$\n",
    "    Spend_i = \\alpha_0 + \\alpha_1treatment_i + \\alpha_2recency_i + \\alpha_3channel_i + e_i （モデルA）\n",
    "$$\n",
    "$$\n",
    "    Spend_i = \\beta_0 + \\beta_1treatment_i + \\beta_2recency_i + \\beta_3channel_i + \\beta_4history_i + u_i （モデルB）\n",
    "$$"
   ]
  },
  {
   "cell_type": "markdown",
   "id": "fba45382-104f-44e2-adfc-338c016c44ec",
   "metadata": {},
   "source": [
    "AとBの差はhistoryという共変量がモデルに含まれているか否かにある．  \n",
    "historyは過去の購入額を表す変数なので，売上に対して強い相関を持つ．  \n",
    "今回利用するbiased_dataは作成する際にhistoryが３００以上の場合には介入が起こりやすくなるようにデータを加工している．  \n",
    "このことから，historyをモデルから外すことで，脱落変数バイアスが発生するようになっていることがわかる．"
   ]
  },
  {
   "cell_type": "markdown",
   "id": "823fc796-5281-454e-9797-93e03bf56ed6",
   "metadata": {},
   "source": [
    "OVBの式に従うと値は以下のようになるはずである．\n",
    "$$\n",
    "    \\alpha_1 - \\beta_1 = \\gamma_1\\beta_4\n",
    "$$\n",
    "\n",
    "$\\gamma_1$ は以下の回帰式によって推定された値である．\n",
    "$$\n",
    "    history_i = \\gamma_0 + \\gamma_1treatment_i + \\gamma_2recency_i + \\gamma_3channel_i + \\epsilon_i （モデルC）\n",
    "$$\n",
    "\n",
    "この回帰式はモデルAで脱落している変数 $history_i$ に対して，  \n",
    "モデルAに含まれている変数を使って回帰分析を行ったものである．"
   ]
  },
  {
   "cell_type": "markdown",
   "id": "a530e382-fc32-4536-8746-9d4f95e24ce9",
   "metadata": {},
   "source": [
    "**Rコード**\n",
    "\n",
    "```R\n",
    "# broomの読み出し\n",
    "libray(broom)\n",
    "\n",
    "# モデル式のベクトルを用意\n",
    "formula_vec <- c(\n",
    "    spend ~ treatment + recency + channel, #モデルA\n",
    "    spend ~ treatment + recency + channel + history, #モデルB\n",
    "    history ~ treatment + channel + recency, #モデルC\n",
    ")\n",
    "\n",
    "# formulaに名前を付ける\n",
    "names(formula_vec) <- paste(\"reg\", LETTERS[1:3], sep = \"_\")\n",
    "\n",
    "# モデル式のデータフレーム化\n",
    "models <- formula_vec %>%\n",
    "    enframe(name = \"model_index\", value = \"formula\")\n",
    "\n",
    "# まとめて回帰分析を実行\n",
    "df_models <- models %>%\n",
    "    mutate(model = map(.x = formula, .f = lm, data = biased_data)) %>%\n",
    "    mutate(lm_result = map(.x = model, .f = tidy))\n",
    "\n",
    "# モデルの結果を整形\n",
    "df_results <- df_models %>%\n",
    "    mutate(formula = as.character(formula)) %>%\n",
    "    select(formula, model_index, lm_result) %>%\n",
    "    unnset(cols = c(lm_result))\n",
    "\n",
    "# モデルA,B，Cでのtreatmentのパラメータ（回帰係数）を抜き出す\n",
    "treatment_coef <- df_results %>%\n",
    "    filter(term == \"treatment\") %>%\n",
    "    pull(estimate)\n",
    "\n",
    "# モデルBからhistoryのパラメータ（回帰係数）を抜き出す\n",
    "history_coef <- df_results %>%\n",
    "    filter(\n",
    "        model_index == \"reg_B\",\n",
    "        term == \"history\"\n",
    "    ) %>%\n",
    "    pull(estimate)\n",
    "\n",
    "# OVBの確認\n",
    "OVB <- history_coef * treatment_coef[3]\n",
    "coef_gap <- treatment_coef[1] - treatment_coef[2]\n",
    "\n",
    "OVB #beta_2 * gamma_1\n",
    "coef_gap #alpha_1 - beta_1\n",
    "```"
   ]
  },
  {
   "cell_type": "code",
   "execution_count": 1,
   "id": "a011b12b-f6b0-45ad-810a-32f5ffb8c6f4",
   "metadata": {},
   "outputs": [],
   "source": [
    "import numpy as np\n",
    "import pandas as pd\n",
    "from scipy.stats import uniform\n",
    "import statsmodels.formula.api as smf"
   ]
  },
  {
   "cell_type": "code",
   "execution_count": 2,
   "id": "e6f49088-dc81-4ee4-a3c8-793b011e900a",
   "metadata": {},
   "outputs": [],
   "source": [
    "df_email = pd.read_csv(\"http://www.minethatdata.com/Kevin_Hillstrom_MineThatData_E-MailAnalytics_DataMiningChallenge_2008.03.20.csv\")"
   ]
  },
  {
   "cell_type": "code",
   "execution_count": 3,
   "id": "61f67bde-f5fe-4b31-9125-ed74399dbbed",
   "metadata": {},
   "outputs": [],
   "source": [
    "df_male = df_email.query(\"segment != 'Womens E-Mail'\").copy()\n",
    "df_male[\"treatment\"] = np.where(df_male[\"segment\"] == \"Mens E-Mail\", 1, 0)"
   ]
  },
  {
   "cell_type": "code",
   "execution_count": 4,
   "id": "a98fe525-8c5c-4de9-8580-5761d858cb60",
   "metadata": {},
   "outputs": [],
   "source": [
    "obs_rate_c = 0.5\n",
    "obs_rate_t = 0.5\n",
    "\n",
    "df_biased_email = (df_male\n",
    "                   .assign(\n",
    "                       obs_rate_c=np.where(\n",
    "                           (df_male[\"history\"] > 300) | (df_male[\"recency\"] < 6) | (df_male[\"channel\"] == \"Multichannel\"),\n",
    "                           obs_rate_c,\n",
    "                           1\n",
    "                       )\n",
    "                   )\n",
    "                   .assign(\n",
    "                       obs_rate_t=np.where(\n",
    "                           (df_male[\"history\"] > 300) | (df_male[\"recency\"] < 6) | (df_male[\"channel\"] == \"Multichannel\"),\n",
    "                           obs_rate_t,\n",
    "                           1\n",
    "                       )\n",
    "                   )\n",
    "                   .assign(random_number=uniform.rvs(size=len(df_male), random_state=46))\n",
    "                   .query(\"(treatment == 0 & random_number < obs_rate_c) | (treatment == 1 & random_number < obs_rate_t)\")\n",
    ")"
   ]
  },
  {
   "cell_type": "code",
   "execution_count": 5,
   "id": "8131fef4-d85c-4b43-a018-775412a19455",
   "metadata": {},
   "outputs": [],
   "source": [
    "model_list = [\n",
    "    \"spend ~ treatment + recency + channel\", #モデルA\n",
    "    \"spend ~ treatment + recency + channel + history\", #モデルB\n",
    "    \"history ~ treatment + channel + recency\", #モデルC\n",
    "]\n",
    "\n",
    "model_dict = {f\"reg_{idx}\": formula for idx, formula in enumerate(model_list)}\n",
    "\n",
    "df_model = pd.DataFrame(\n",
    "    data=[smf.ols(formula=formula, data=df_biased_email).fit() for formula in model_dict.values()],\n",
    "    index=[reg for reg in model_dict.keys()]\n",
    ").T"
   ]
  },
  {
   "cell_type": "code",
   "execution_count": 6,
   "id": "4471ed4c-c866-464c-8992-a1178cde4896",
   "metadata": {},
   "outputs": [],
   "source": [
    "treatment_coef = [df_model[column][0].params[\"treatment\"] for column in df_model.columns]\n",
    "history_coef = df_model[\"reg_1\"][0].params[\"history\"]"
   ]
  },
  {
   "cell_type": "code",
   "execution_count": 7,
   "id": "ab86ef4a-2e17-4d7f-9134-e000a208a773",
   "metadata": {},
   "outputs": [
    {
     "name": "stdout",
     "output_type": "stream",
     "text": [
      "0.0015424165543142167\n",
      "0.0015424165543151958\n"
     ]
    }
   ],
   "source": [
    "OVB = history_coef * treatment_coef[2]\n",
    "coef_gap = treatment_coef[0] - treatment_coef[1]\n",
    "\n",
    "print(OVB)\n",
    "print(coef_gap)"
   ]
  },
  {
   "cell_type": "markdown",
   "id": "7f5902b2-0036-4763-829e-a962125cea6f",
   "metadata": {},
   "source": [
    "これにより，実際に共変量を追加したモデルとしなかったモデルにおいて，  \n",
    "推定される効果の差がOVBの式の結果と一致することがわかった．  \n",
    "つまり，共変量を追加することで推定される効果の値に変化が生じるのは，  \n",
    "共変量を追加したことによってOVBが消失したことに由来していることがわかる．"
   ]
  },
  {
   "cell_type": "markdown",
   "id": "a10bbf4b-70f5-4bb7-97e2-2b6b7da3c759",
   "metadata": {},
   "source": [
    "# OVBが与えてくれる情報"
   ]
  },
  {
   "cell_type": "markdown",
   "id": "21f0d5be-bd87-4a2b-a9b9-eca65d351f9a",
   "metadata": {},
   "source": [
    "$$\n",
    "    \\alpha_1 = \\beta_1 + \\gamma_1\\beta_2\n",
    "$$\n",
    "$$\n",
    "    X_{omit,i} = \\gamma_1Z_i + \\epsilon_i\n",
    "$$\n",
    "\n",
    "上式のようなOVBの式は，共変量が不十分なモデルの持つバイアス構造を表す．  \n",
    "そしてその構造とは，バイアスの値は「脱落変数 $X_{omit}$ と $Z$ の関係」と，  \n",
    "「脱落変数 $X_{omit}$ と目的変数 $Y$の関係」の掛け合わせになることを示していた．"
   ]
  },
  {
   "cell_type": "markdown",
   "id": "4b913a91-75f4-436b-b5ca-c63a2322e7a6",
   "metadata": {},
   "source": [
    "これは，介入変数 $Z$ の決定に何らかの関連を持っていて，さらに目的変数 $Y$ との相関にあるような変数を，  \n",
    "新たにモデルに含めるとバイアスを低減できるという重要な情報を与えてくれます．  \n",
    "このような $Z$, $Y$ の両方に関係あるような変数のことを**交絡因子**と呼ぶ．"
   ]
  },
  {
   "cell_type": "markdown",
   "id": "59291b3a-fe61-4fc3-b10b-4dac9f36f359",
   "metadata": {},
   "source": [
    "目的変数との相関が0ではない変数は，しばしば回帰モデルにおいて含まれるべき重要な存在とされることがある．  \n",
    "これは $Y$ を予測することを目的にするのであれば正しい判断であるが，  \n",
    "その変数と $Z$ との相関が0であるような場合にはOVBの値は0になるために，  \n",
    "その変数をモデルに加えても，効果の推定値は変化しないということになる．  \n",
    "また，このときにどちらかが0でなくとも非常に小さい値を保つ場合には，  \n",
    "結果的には発生するバイアスは無視できるほどに小さくなる場合がある．  \n",
    "よって， $Y$ と $Z$ どちらに対してもある程度相関があるような変数を加えることがよりバイアスを少ない効果推定を行う鍵である．"
   ]
  },
  {
   "cell_type": "markdown",
   "id": "2b3a7ee7-8148-4dd8-ad03-77306555993f",
   "metadata": {},
   "source": [
    "OVBの値が小さい，つまり $\\beta_4$ および　$\\gamma_1$ が小さいという状態は，  \n",
    "その変数がもともと $Y$ および $Z$ と関係が薄い変数である場合もあるが，  \n",
    "すでにモデルに含まれている変数の影響によって小さくなっているというケースもある．  \n",
    "新たに追加しようとしてる変数と相関の強い変数をあらかじめ共変量としてモデルに加えている場合にはOVBの値は小さくなっており，  \n",
    "その変数を加えても推定される効果は大きく変化しないことになる．  \n",
    "これは $Z$ の割り振りに関係するであろうすべての変数を共変量としてモデルに加えなくともバイアスが十分に小さくなる可能性があることを示す．"
   ]
  },
  {
   "cell_type": "markdown",
   "id": "d5b36d00-5aee-4126-b9a4-0ec7d98f8cdd",
   "metadata": {},
   "source": [
    "またバイアスを発生させるような変数 $X_{omit}$ がデータとして手に入らない場合にも，  \n",
    "その変数と $Y$ と $Z$ との関係がそれぞれ正になるか負になるかを考えることで，  \n",
    "今得られている効果の推定結果が過小に評価されているか過大に評価されているかを想定できる．"
   ]
  },
  {
   "cell_type": "code",
   "execution_count": null,
   "id": "496680da-02e6-42fe-874c-c832cdc7a541",
   "metadata": {},
   "outputs": [],
   "source": []
  }
 ],
 "metadata": {
  "kernelspec": {
   "display_name": "Python 3 (ipykernel)",
   "language": "python",
   "name": "python3"
  },
  "language_info": {
   "codemirror_mode": {
    "name": "ipython",
    "version": 3
   },
   "file_extension": ".py",
   "mimetype": "text/x-python",
   "name": "python",
   "nbconvert_exporter": "python",
   "pygments_lexer": "ipython3",
   "version": "3.10.5"
  },
  "widgets": {
   "application/vnd.jupyter.widget-state+json": {
    "state": {},
    "version_major": 2,
    "version_minor": 0
   }
  }
 },
 "nbformat": 4,
 "nbformat_minor": 5
}
